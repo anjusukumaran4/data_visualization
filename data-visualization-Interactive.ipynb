{
 "cells": [
  {
   "cell_type": "markdown",
   "id": "8306e9ae",
   "metadata": {
    "papermill": {
     "duration": 0.012914,
     "end_time": "2023-11-14T07:42:23.871735",
     "exception": false,
     "start_time": "2023-11-14T07:42:23.858821",
     "status": "completed"
    },
    "tags": []
   },
   "source": [
    "Importing libraries"
   ]
  },
  {
   "cell_type": "code",
   "execution_count": 1,
   "id": "5b8483fc",
   "metadata": {
    "execution": {
     "iopub.execute_input": "2023-11-14T07:42:23.899845Z",
     "iopub.status.busy": "2023-11-14T07:42:23.898996Z",
     "iopub.status.idle": "2023-11-14T07:42:26.619472Z",
     "shell.execute_reply": "2023-11-14T07:42:26.618198Z"
    },
    "papermill": {
     "duration": 2.737926,
     "end_time": "2023-11-14T07:42:26.622255",
     "exception": false,
     "start_time": "2023-11-14T07:42:23.884329",
     "status": "completed"
    },
    "tags": []
   },
   "outputs": [],
   "source": [
    "import numpy as np\n",
    "import pandas as pd\n",
    "\n",
    "import warnings\n",
    "warnings.filterwarnings('ignore')\n",
    "\n",
    "import matplotlib.pyplot as plt\n",
    "import seaborn as sns"
   ]
  },
  {
   "cell_type": "markdown",
   "id": "a744ee5c",
   "metadata": {
    "papermill": {
     "duration": 0.011993,
     "end_time": "2023-11-14T07:42:26.646755",
     "exception": false,
     "start_time": "2023-11-14T07:42:26.634762",
     "status": "completed"
    },
    "tags": []
   },
   "source": [
    "## Load Data "
   ]
  },
  {
   "cell_type": "code",
   "execution_count": 2,
   "id": "f4b0c652",
   "metadata": {
    "execution": {
     "iopub.execute_input": "2023-11-14T07:42:26.673629Z",
     "iopub.status.busy": "2023-11-14T07:42:26.673085Z",
     "iopub.status.idle": "2023-11-14T07:42:26.724439Z",
     "shell.execute_reply": "2023-11-14T07:42:26.723356Z"
    },
    "papermill": {
     "duration": 0.06819,
     "end_time": "2023-11-14T07:42:26.727350",
     "exception": false,
     "start_time": "2023-11-14T07:42:26.659160",
     "status": "completed"
    },
    "tags": []
   },
   "outputs": [],
   "source": [
    "df = pd.read_csv('/kaggle/input/customer-shopping-trends-dataset/shopping_trends_updated.csv')"
   ]
  },
  {
   "cell_type": "markdown",
   "id": "6868b15e",
   "metadata": {
    "papermill": {
     "duration": 0.012337,
     "end_time": "2023-11-14T07:42:26.752330",
     "exception": false,
     "start_time": "2023-11-14T07:42:26.739993",
     "status": "completed"
    },
    "tags": []
   },
   "source": [
    "## Data Exploration"
   ]
  },
  {
   "cell_type": "code",
   "execution_count": 3,
   "id": "d7db66aa",
   "metadata": {
    "execution": {
     "iopub.execute_input": "2023-11-14T07:42:26.779543Z",
     "iopub.status.busy": "2023-11-14T07:42:26.779161Z",
     "iopub.status.idle": "2023-11-14T07:42:26.812280Z",
     "shell.execute_reply": "2023-11-14T07:42:26.811152Z"
    },
    "papermill": {
     "duration": 0.050365,
     "end_time": "2023-11-14T07:42:26.815247",
     "exception": false,
     "start_time": "2023-11-14T07:42:26.764882",
     "status": "completed"
    },
    "tags": []
   },
   "outputs": [
    {
     "data": {
      "text/html": [
       "<div>\n",
       "<style scoped>\n",
       "    .dataframe tbody tr th:only-of-type {\n",
       "        vertical-align: middle;\n",
       "    }\n",
       "\n",
       "    .dataframe tbody tr th {\n",
       "        vertical-align: top;\n",
       "    }\n",
       "\n",
       "    .dataframe thead th {\n",
       "        text-align: right;\n",
       "    }\n",
       "</style>\n",
       "<table border=\"1\" class=\"dataframe\">\n",
       "  <thead>\n",
       "    <tr style=\"text-align: right;\">\n",
       "      <th></th>\n",
       "      <th>Customer ID</th>\n",
       "      <th>Age</th>\n",
       "      <th>Gender</th>\n",
       "      <th>Item Purchased</th>\n",
       "      <th>Category</th>\n",
       "      <th>Purchase Amount (USD)</th>\n",
       "      <th>Location</th>\n",
       "      <th>Size</th>\n",
       "      <th>Color</th>\n",
       "      <th>Season</th>\n",
       "      <th>Review Rating</th>\n",
       "      <th>Subscription Status</th>\n",
       "      <th>Shipping Type</th>\n",
       "      <th>Discount Applied</th>\n",
       "      <th>Promo Code Used</th>\n",
       "      <th>Previous Purchases</th>\n",
       "      <th>Payment Method</th>\n",
       "      <th>Frequency of Purchases</th>\n",
       "    </tr>\n",
       "  </thead>\n",
       "  <tbody>\n",
       "    <tr>\n",
       "      <th>0</th>\n",
       "      <td>1</td>\n",
       "      <td>55</td>\n",
       "      <td>Male</td>\n",
       "      <td>Blouse</td>\n",
       "      <td>Clothing</td>\n",
       "      <td>53</td>\n",
       "      <td>Kentucky</td>\n",
       "      <td>L</td>\n",
       "      <td>Gray</td>\n",
       "      <td>Winter</td>\n",
       "      <td>3.1</td>\n",
       "      <td>Yes</td>\n",
       "      <td>Express</td>\n",
       "      <td>Yes</td>\n",
       "      <td>Yes</td>\n",
       "      <td>14</td>\n",
       "      <td>Venmo</td>\n",
       "      <td>Fortnightly</td>\n",
       "    </tr>\n",
       "    <tr>\n",
       "      <th>1</th>\n",
       "      <td>2</td>\n",
       "      <td>19</td>\n",
       "      <td>Male</td>\n",
       "      <td>Sweater</td>\n",
       "      <td>Clothing</td>\n",
       "      <td>64</td>\n",
       "      <td>Maine</td>\n",
       "      <td>L</td>\n",
       "      <td>Maroon</td>\n",
       "      <td>Winter</td>\n",
       "      <td>3.1</td>\n",
       "      <td>Yes</td>\n",
       "      <td>Express</td>\n",
       "      <td>Yes</td>\n",
       "      <td>Yes</td>\n",
       "      <td>2</td>\n",
       "      <td>Cash</td>\n",
       "      <td>Fortnightly</td>\n",
       "    </tr>\n",
       "    <tr>\n",
       "      <th>2</th>\n",
       "      <td>3</td>\n",
       "      <td>50</td>\n",
       "      <td>Male</td>\n",
       "      <td>Jeans</td>\n",
       "      <td>Clothing</td>\n",
       "      <td>73</td>\n",
       "      <td>Massachusetts</td>\n",
       "      <td>S</td>\n",
       "      <td>Maroon</td>\n",
       "      <td>Spring</td>\n",
       "      <td>3.1</td>\n",
       "      <td>Yes</td>\n",
       "      <td>Free Shipping</td>\n",
       "      <td>Yes</td>\n",
       "      <td>Yes</td>\n",
       "      <td>23</td>\n",
       "      <td>Credit Card</td>\n",
       "      <td>Weekly</td>\n",
       "    </tr>\n",
       "    <tr>\n",
       "      <th>3</th>\n",
       "      <td>4</td>\n",
       "      <td>21</td>\n",
       "      <td>Male</td>\n",
       "      <td>Sandals</td>\n",
       "      <td>Footwear</td>\n",
       "      <td>90</td>\n",
       "      <td>Rhode Island</td>\n",
       "      <td>M</td>\n",
       "      <td>Maroon</td>\n",
       "      <td>Spring</td>\n",
       "      <td>3.5</td>\n",
       "      <td>Yes</td>\n",
       "      <td>Next Day Air</td>\n",
       "      <td>Yes</td>\n",
       "      <td>Yes</td>\n",
       "      <td>49</td>\n",
       "      <td>PayPal</td>\n",
       "      <td>Weekly</td>\n",
       "    </tr>\n",
       "    <tr>\n",
       "      <th>4</th>\n",
       "      <td>5</td>\n",
       "      <td>45</td>\n",
       "      <td>Male</td>\n",
       "      <td>Blouse</td>\n",
       "      <td>Clothing</td>\n",
       "      <td>49</td>\n",
       "      <td>Oregon</td>\n",
       "      <td>M</td>\n",
       "      <td>Turquoise</td>\n",
       "      <td>Spring</td>\n",
       "      <td>2.7</td>\n",
       "      <td>Yes</td>\n",
       "      <td>Free Shipping</td>\n",
       "      <td>Yes</td>\n",
       "      <td>Yes</td>\n",
       "      <td>31</td>\n",
       "      <td>PayPal</td>\n",
       "      <td>Annually</td>\n",
       "    </tr>\n",
       "  </tbody>\n",
       "</table>\n",
       "</div>"
      ],
      "text/plain": [
       "   Customer ID  Age Gender Item Purchased  Category  Purchase Amount (USD)  \\\n",
       "0            1   55   Male         Blouse  Clothing                     53   \n",
       "1            2   19   Male        Sweater  Clothing                     64   \n",
       "2            3   50   Male          Jeans  Clothing                     73   \n",
       "3            4   21   Male        Sandals  Footwear                     90   \n",
       "4            5   45   Male         Blouse  Clothing                     49   \n",
       "\n",
       "        Location Size      Color  Season  Review Rating Subscription Status  \\\n",
       "0       Kentucky    L       Gray  Winter            3.1                 Yes   \n",
       "1          Maine    L     Maroon  Winter            3.1                 Yes   \n",
       "2  Massachusetts    S     Maroon  Spring            3.1                 Yes   \n",
       "3   Rhode Island    M     Maroon  Spring            3.5                 Yes   \n",
       "4         Oregon    M  Turquoise  Spring            2.7                 Yes   \n",
       "\n",
       "   Shipping Type Discount Applied Promo Code Used  Previous Purchases  \\\n",
       "0        Express              Yes             Yes                  14   \n",
       "1        Express              Yes             Yes                   2   \n",
       "2  Free Shipping              Yes             Yes                  23   \n",
       "3   Next Day Air              Yes             Yes                  49   \n",
       "4  Free Shipping              Yes             Yes                  31   \n",
       "\n",
       "  Payment Method Frequency of Purchases  \n",
       "0          Venmo            Fortnightly  \n",
       "1           Cash            Fortnightly  \n",
       "2    Credit Card                 Weekly  \n",
       "3         PayPal                 Weekly  \n",
       "4         PayPal               Annually  "
      ]
     },
     "execution_count": 3,
     "metadata": {},
     "output_type": "execute_result"
    }
   ],
   "source": [
    "df.head()"
   ]
  },
  {
   "cell_type": "code",
   "execution_count": 4,
   "id": "2e710342",
   "metadata": {
    "execution": {
     "iopub.execute_input": "2023-11-14T07:42:26.844534Z",
     "iopub.status.busy": "2023-11-14T07:42:26.844160Z",
     "iopub.status.idle": "2023-11-14T07:42:26.849220Z",
     "shell.execute_reply": "2023-11-14T07:42:26.848442Z"
    },
    "papermill": {
     "duration": 0.022897,
     "end_time": "2023-11-14T07:42:26.851849",
     "exception": false,
     "start_time": "2023-11-14T07:42:26.828952",
     "status": "completed"
    },
    "tags": []
   },
   "outputs": [
    {
     "name": "stdout",
     "output_type": "stream",
     "text": [
      "Shape of the Dataset :  (3900, 18)\n"
     ]
    }
   ],
   "source": [
    "print('Shape of the Dataset : ',df.shape)"
   ]
  },
  {
   "cell_type": "code",
   "execution_count": 5,
   "id": "fed11bc5",
   "metadata": {
    "execution": {
     "iopub.execute_input": "2023-11-14T07:42:26.879415Z",
     "iopub.status.busy": "2023-11-14T07:42:26.879020Z",
     "iopub.status.idle": "2023-11-14T07:42:26.886795Z",
     "shell.execute_reply": "2023-11-14T07:42:26.885755Z"
    },
    "papermill": {
     "duration": 0.024403,
     "end_time": "2023-11-14T07:42:26.889128",
     "exception": false,
     "start_time": "2023-11-14T07:42:26.864725",
     "status": "completed"
    },
    "tags": []
   },
   "outputs": [
    {
     "data": {
      "text/plain": [
       "Index(['Customer ID', 'Age', 'Gender', 'Item Purchased', 'Category',\n",
       "       'Purchase Amount (USD)', 'Location', 'Size', 'Color', 'Season',\n",
       "       'Review Rating', 'Subscription Status', 'Shipping Type',\n",
       "       'Discount Applied', 'Promo Code Used', 'Previous Purchases',\n",
       "       'Payment Method', 'Frequency of Purchases'],\n",
       "      dtype='object')"
      ]
     },
     "execution_count": 5,
     "metadata": {},
     "output_type": "execute_result"
    }
   ],
   "source": [
    "df.columns"
   ]
  },
  {
   "cell_type": "code",
   "execution_count": 6,
   "id": "fd5b1247",
   "metadata": {
    "execution": {
     "iopub.execute_input": "2023-11-14T07:42:26.917249Z",
     "iopub.status.busy": "2023-11-14T07:42:26.916864Z",
     "iopub.status.idle": "2023-11-14T07:42:26.953745Z",
     "shell.execute_reply": "2023-11-14T07:42:26.952338Z"
    },
    "papermill": {
     "duration": 0.053741,
     "end_time": "2023-11-14T07:42:26.956282",
     "exception": false,
     "start_time": "2023-11-14T07:42:26.902541",
     "status": "completed"
    },
    "tags": []
   },
   "outputs": [
    {
     "name": "stdout",
     "output_type": "stream",
     "text": [
      "<class 'pandas.core.frame.DataFrame'>\n",
      "RangeIndex: 3900 entries, 0 to 3899\n",
      "Data columns (total 18 columns):\n",
      " #   Column                  Non-Null Count  Dtype  \n",
      "---  ------                  --------------  -----  \n",
      " 0   Customer ID             3900 non-null   int64  \n",
      " 1   Age                     3900 non-null   int64  \n",
      " 2   Gender                  3900 non-null   object \n",
      " 3   Item Purchased          3900 non-null   object \n",
      " 4   Category                3900 non-null   object \n",
      " 5   Purchase Amount (USD)   3900 non-null   int64  \n",
      " 6   Location                3900 non-null   object \n",
      " 7   Size                    3900 non-null   object \n",
      " 8   Color                   3900 non-null   object \n",
      " 9   Season                  3900 non-null   object \n",
      " 10  Review Rating           3900 non-null   float64\n",
      " 11  Subscription Status     3900 non-null   object \n",
      " 12  Shipping Type           3900 non-null   object \n",
      " 13  Discount Applied        3900 non-null   object \n",
      " 14  Promo Code Used         3900 non-null   object \n",
      " 15  Previous Purchases      3900 non-null   int64  \n",
      " 16  Payment Method          3900 non-null   object \n",
      " 17  Frequency of Purchases  3900 non-null   object \n",
      "dtypes: float64(1), int64(4), object(13)\n",
      "memory usage: 548.6+ KB\n"
     ]
    }
   ],
   "source": [
    "df.info()"
   ]
  },
  {
   "cell_type": "code",
   "execution_count": 7,
   "id": "1fd15465",
   "metadata": {
    "execution": {
     "iopub.execute_input": "2023-11-14T07:42:26.985696Z",
     "iopub.status.busy": "2023-11-14T07:42:26.985002Z",
     "iopub.status.idle": "2023-11-14T07:42:26.998886Z",
     "shell.execute_reply": "2023-11-14T07:42:26.997766Z"
    },
    "papermill": {
     "duration": 0.031137,
     "end_time": "2023-11-14T07:42:27.001232",
     "exception": false,
     "start_time": "2023-11-14T07:42:26.970095",
     "status": "completed"
    },
    "tags": []
   },
   "outputs": [
    {
     "data": {
      "text/plain": [
       "0"
      ]
     },
     "execution_count": 7,
     "metadata": {},
     "output_type": "execute_result"
    }
   ],
   "source": [
    "#checking null values\n",
    "df.isnull().sum().sum()"
   ]
  },
  {
   "cell_type": "code",
   "execution_count": 8,
   "id": "781c43d1",
   "metadata": {
    "execution": {
     "iopub.execute_input": "2023-11-14T07:42:27.031900Z",
     "iopub.status.busy": "2023-11-14T07:42:27.031168Z",
     "iopub.status.idle": "2023-11-14T07:42:27.049485Z",
     "shell.execute_reply": "2023-11-14T07:42:27.048210Z"
    },
    "papermill": {
     "duration": 0.037172,
     "end_time": "2023-11-14T07:42:27.051981",
     "exception": false,
     "start_time": "2023-11-14T07:42:27.014809",
     "status": "completed"
    },
    "tags": []
   },
   "outputs": [
    {
     "data": {
      "text/plain": [
       "0"
      ]
     },
     "execution_count": 8,
     "metadata": {},
     "output_type": "execute_result"
    }
   ],
   "source": [
    "#checking for duplicate values\n",
    "df.duplicated().sum()"
   ]
  },
  {
   "cell_type": "code",
   "execution_count": 9,
   "id": "bd3fafa8",
   "metadata": {
    "execution": {
     "iopub.execute_input": "2023-11-14T07:42:27.081844Z",
     "iopub.status.busy": "2023-11-14T07:42:27.081112Z",
     "iopub.status.idle": "2023-11-14T07:42:27.091725Z",
     "shell.execute_reply": "2023-11-14T07:42:27.090745Z"
    },
    "papermill": {
     "duration": 0.028503,
     "end_time": "2023-11-14T07:42:27.094321",
     "exception": false,
     "start_time": "2023-11-14T07:42:27.065818",
     "status": "completed"
    },
    "tags": []
   },
   "outputs": [],
   "source": [
    "#droping unwanted columns\n",
    "df.drop(['Customer ID'],axis=1,inplace=True)"
   ]
  },
  {
   "cell_type": "code",
   "execution_count": 10,
   "id": "92868363",
   "metadata": {
    "execution": {
     "iopub.execute_input": "2023-11-14T07:42:27.124006Z",
     "iopub.status.busy": "2023-11-14T07:42:27.123605Z",
     "iopub.status.idle": "2023-11-14T07:42:27.154964Z",
     "shell.execute_reply": "2023-11-14T07:42:27.153724Z"
    },
    "papermill": {
     "duration": 0.049115,
     "end_time": "2023-11-14T07:42:27.157522",
     "exception": false,
     "start_time": "2023-11-14T07:42:27.108407",
     "status": "completed"
    },
    "tags": []
   },
   "outputs": [
    {
     "data": {
      "text/html": [
       "<div>\n",
       "<style scoped>\n",
       "    .dataframe tbody tr th:only-of-type {\n",
       "        vertical-align: middle;\n",
       "    }\n",
       "\n",
       "    .dataframe tbody tr th {\n",
       "        vertical-align: top;\n",
       "    }\n",
       "\n",
       "    .dataframe thead th {\n",
       "        text-align: right;\n",
       "    }\n",
       "</style>\n",
       "<table border=\"1\" class=\"dataframe\">\n",
       "  <thead>\n",
       "    <tr style=\"text-align: right;\">\n",
       "      <th></th>\n",
       "      <th>count</th>\n",
       "      <th>mean</th>\n",
       "      <th>std</th>\n",
       "      <th>min</th>\n",
       "      <th>25%</th>\n",
       "      <th>50%</th>\n",
       "      <th>75%</th>\n",
       "      <th>max</th>\n",
       "    </tr>\n",
       "  </thead>\n",
       "  <tbody>\n",
       "    <tr>\n",
       "      <th>Age</th>\n",
       "      <td>3900.0</td>\n",
       "      <td>44.068462</td>\n",
       "      <td>15.207589</td>\n",
       "      <td>18.0</td>\n",
       "      <td>31.0</td>\n",
       "      <td>44.0</td>\n",
       "      <td>57.0</td>\n",
       "      <td>70.0</td>\n",
       "    </tr>\n",
       "    <tr>\n",
       "      <th>Purchase Amount (USD)</th>\n",
       "      <td>3900.0</td>\n",
       "      <td>59.764359</td>\n",
       "      <td>23.685392</td>\n",
       "      <td>20.0</td>\n",
       "      <td>39.0</td>\n",
       "      <td>60.0</td>\n",
       "      <td>81.0</td>\n",
       "      <td>100.0</td>\n",
       "    </tr>\n",
       "    <tr>\n",
       "      <th>Review Rating</th>\n",
       "      <td>3900.0</td>\n",
       "      <td>3.749949</td>\n",
       "      <td>0.716223</td>\n",
       "      <td>2.5</td>\n",
       "      <td>3.1</td>\n",
       "      <td>3.7</td>\n",
       "      <td>4.4</td>\n",
       "      <td>5.0</td>\n",
       "    </tr>\n",
       "    <tr>\n",
       "      <th>Previous Purchases</th>\n",
       "      <td>3900.0</td>\n",
       "      <td>25.351538</td>\n",
       "      <td>14.447125</td>\n",
       "      <td>1.0</td>\n",
       "      <td>13.0</td>\n",
       "      <td>25.0</td>\n",
       "      <td>38.0</td>\n",
       "      <td>50.0</td>\n",
       "    </tr>\n",
       "  </tbody>\n",
       "</table>\n",
       "</div>"
      ],
      "text/plain": [
       "                        count       mean        std   min   25%   50%   75%  \\\n",
       "Age                    3900.0  44.068462  15.207589  18.0  31.0  44.0  57.0   \n",
       "Purchase Amount (USD)  3900.0  59.764359  23.685392  20.0  39.0  60.0  81.0   \n",
       "Review Rating          3900.0   3.749949   0.716223   2.5   3.1   3.7   4.4   \n",
       "Previous Purchases     3900.0  25.351538  14.447125   1.0  13.0  25.0  38.0   \n",
       "\n",
       "                         max  \n",
       "Age                     70.0  \n",
       "Purchase Amount (USD)  100.0  \n",
       "Review Rating            5.0  \n",
       "Previous Purchases      50.0  "
      ]
     },
     "execution_count": 10,
     "metadata": {},
     "output_type": "execute_result"
    }
   ],
   "source": [
    "# Review descriptive data\n",
    "df.describe().transpose()"
   ]
  },
  {
   "cell_type": "markdown",
   "id": "6d4bdaa0",
   "metadata": {
    "papermill": {
     "duration": 0.013481,
     "end_time": "2023-11-14T07:42:27.185433",
     "exception": false,
     "start_time": "2023-11-14T07:42:27.171952",
     "status": "completed"
    },
    "tags": []
   },
   "source": [
    "## EDA using cutecharts library\n",
    "cutecharts library is a python hand-painted styles visualization package."
   ]
  },
  {
   "cell_type": "code",
   "execution_count": 11,
   "id": "4ab44206",
   "metadata": {
    "execution": {
     "iopub.execute_input": "2023-11-14T07:42:27.216125Z",
     "iopub.status.busy": "2023-11-14T07:42:27.214862Z",
     "iopub.status.idle": "2023-11-14T07:42:43.136237Z",
     "shell.execute_reply": "2023-11-14T07:42:43.135045Z"
    },
    "papermill": {
     "duration": 15.939576,
     "end_time": "2023-11-14T07:42:43.138920",
     "exception": false,
     "start_time": "2023-11-14T07:42:27.199344",
     "status": "completed"
    },
    "tags": []
   },
   "outputs": [
    {
     "name": "stdout",
     "output_type": "stream",
     "text": [
      "Collecting cutecharts\r\n",
      "  Downloading cutecharts-1.2.0-py3-none-any.whl (17 kB)\r\n",
      "Requirement already satisfied: jinja2 in /opt/conda/lib/python3.10/site-packages (from cutecharts) (3.1.2)\r\n",
      "Requirement already satisfied: MarkupSafe>=2.0 in /opt/conda/lib/python3.10/site-packages (from jinja2->cutecharts) (2.1.3)\r\n",
      "Installing collected packages: cutecharts\r\n",
      "Successfully installed cutecharts-1.2.0\r\n"
     ]
    }
   ],
   "source": [
    "!pip install cutecharts"
   ]
  },
  {
   "cell_type": "code",
   "execution_count": 12,
   "id": "2225a1b2",
   "metadata": {
    "execution": {
     "iopub.execute_input": "2023-11-14T07:42:43.170383Z",
     "iopub.status.busy": "2023-11-14T07:42:43.169941Z",
     "iopub.status.idle": "2023-11-14T07:42:43.242187Z",
     "shell.execute_reply": "2023-11-14T07:42:43.241193Z"
    },
    "papermill": {
     "duration": 0.091748,
     "end_time": "2023-11-14T07:42:43.245140",
     "exception": false,
     "start_time": "2023-11-14T07:42:43.153392",
     "status": "completed"
    },
    "tags": []
   },
   "outputs": [],
   "source": [
    "import cutecharts.charts as ctc"
   ]
  },
  {
   "cell_type": "code",
   "execution_count": 13,
   "id": "a0442d87",
   "metadata": {
    "execution": {
     "iopub.execute_input": "2023-11-14T07:42:43.276120Z",
     "iopub.status.busy": "2023-11-14T07:42:43.275249Z",
     "iopub.status.idle": "2023-11-14T07:42:43.287434Z",
     "shell.execute_reply": "2023-11-14T07:42:43.286632Z"
    },
    "papermill": {
     "duration": 0.030221,
     "end_time": "2023-11-14T07:42:43.289599",
     "exception": false,
     "start_time": "2023-11-14T07:42:43.259378",
     "status": "completed"
    },
    "tags": []
   },
   "outputs": [
    {
     "data": {
      "text/html": [
       "<div>\n",
       "<style scoped>\n",
       "    .dataframe tbody tr th:only-of-type {\n",
       "        vertical-align: middle;\n",
       "    }\n",
       "\n",
       "    .dataframe tbody tr th {\n",
       "        vertical-align: top;\n",
       "    }\n",
       "\n",
       "    .dataframe thead th {\n",
       "        text-align: right;\n",
       "    }\n",
       "</style>\n",
       "<table border=\"1\" class=\"dataframe\">\n",
       "  <thead>\n",
       "    <tr style=\"text-align: right;\">\n",
       "      <th></th>\n",
       "      <th>count</th>\n",
       "    </tr>\n",
       "    <tr>\n",
       "      <th>Gender</th>\n",
       "      <th></th>\n",
       "    </tr>\n",
       "  </thead>\n",
       "  <tbody>\n",
       "    <tr>\n",
       "      <th>Male</th>\n",
       "      <td>2652</td>\n",
       "    </tr>\n",
       "    <tr>\n",
       "      <th>Female</th>\n",
       "      <td>1248</td>\n",
       "    </tr>\n",
       "  </tbody>\n",
       "</table>\n",
       "</div>"
      ],
      "text/plain": [
       "        count\n",
       "Gender       \n",
       "Male     2652\n",
       "Female   1248"
      ]
     },
     "execution_count": 13,
     "metadata": {},
     "output_type": "execute_result"
    }
   ],
   "source": [
    "df_gender = df['Gender'].value_counts().to_frame(name='count')\n",
    "df_gender"
   ]
  },
  {
   "cell_type": "code",
   "execution_count": 14,
   "id": "bee97752",
   "metadata": {
    "execution": {
     "iopub.execute_input": "2023-11-14T07:42:43.320590Z",
     "iopub.status.busy": "2023-11-14T07:42:43.319880Z",
     "iopub.status.idle": "2023-11-14T07:42:43.342821Z",
     "shell.execute_reply": "2023-11-14T07:42:43.341722Z"
    },
    "papermill": {
     "duration": 0.041402,
     "end_time": "2023-11-14T07:42:43.345427",
     "exception": false,
     "start_time": "2023-11-14T07:42:43.304025",
     "status": "completed"
    },
    "tags": []
   },
   "outputs": [
    {
     "data": {
      "text/html": [
       "\n",
       "<script>\n",
       "    require.config({\n",
       "        paths: {\n",
       "            'chartXkcd':'https://cdn.jsdelivr.net/npm/chart.xkcd@1.1/dist/chart.xkcd.min'\n",
       "        }\n",
       "    });\n",
       "</script>\n",
       "\n",
       "<div id=\"1fb18de14f7b4727bbec0e3edfe9a47f\" class=\"chart-container\" style=\"width: 800px\">\n",
       "        <svg id=\"chart_1fb18de14f7b4727bbec0e3edfe9a47f\"></svg>\n",
       "    </div>\n",
       "    <script>\n",
       "        require(['chartXkcd'], function(chartXkcd) {\n",
       "            const svg_1fb18de14f7b4727bbec0e3edfe9a47f = document.querySelector('#chart_1fb18de14f7b4727bbec0e3edfe9a47f')\n",
       "            const chart_1fb18de14f7b4727bbec0e3edfe9a47f = new chartXkcd.Pie(svg_1fb18de14f7b4727bbec0e3edfe9a47f, {\"title\": \"Shopping rate based on Gender\", \"data\": {\"datasets\": [{\"data\": [2652, 1248]}], \"labels\": [\"Male\", \"Female\"]}, \"options\": {\"innerRadius\": 0.4, \"legendPosition\": 1}});\n",
       "        })\n",
       "    </script>\n"
      ],
      "text/plain": [
       "<cutecharts.render.engine.HTML at 0x7ba8f252b220>"
      ]
     },
     "execution_count": 14,
     "metadata": {},
     "output_type": "execute_result"
    }
   ],
   "source": [
    "donut = ctc.Pie('Shopping rate based on Gender')   #add title\n",
    "\n",
    "donut.set_options(labels = list(df_gender.index ), inner_radius = 0.4)\n",
    "donut.add_series(list(df_gender['count']))\n",
    "donut.render_notebook()   #display the chart"
   ]
  },
  {
   "cell_type": "code",
   "execution_count": 15,
   "id": "68e76cc2",
   "metadata": {
    "execution": {
     "iopub.execute_input": "2023-11-14T07:42:43.376517Z",
     "iopub.status.busy": "2023-11-14T07:42:43.376123Z",
     "iopub.status.idle": "2023-11-14T07:42:43.387971Z",
     "shell.execute_reply": "2023-11-14T07:42:43.386762Z"
    },
    "papermill": {
     "duration": 0.029858,
     "end_time": "2023-11-14T07:42:43.390289",
     "exception": false,
     "start_time": "2023-11-14T07:42:43.360431",
     "status": "completed"
    },
    "tags": []
   },
   "outputs": [
    {
     "data": {
      "text/html": [
       "<div>\n",
       "<style scoped>\n",
       "    .dataframe tbody tr th:only-of-type {\n",
       "        vertical-align: middle;\n",
       "    }\n",
       "\n",
       "    .dataframe tbody tr th {\n",
       "        vertical-align: top;\n",
       "    }\n",
       "\n",
       "    .dataframe thead th {\n",
       "        text-align: right;\n",
       "    }\n",
       "</style>\n",
       "<table border=\"1\" class=\"dataframe\">\n",
       "  <thead>\n",
       "    <tr style=\"text-align: right;\">\n",
       "      <th></th>\n",
       "      <th>count</th>\n",
       "    </tr>\n",
       "    <tr>\n",
       "      <th>Category</th>\n",
       "      <th></th>\n",
       "    </tr>\n",
       "  </thead>\n",
       "  <tbody>\n",
       "    <tr>\n",
       "      <th>Clothing</th>\n",
       "      <td>1737</td>\n",
       "    </tr>\n",
       "    <tr>\n",
       "      <th>Accessories</th>\n",
       "      <td>1240</td>\n",
       "    </tr>\n",
       "    <tr>\n",
       "      <th>Footwear</th>\n",
       "      <td>599</td>\n",
       "    </tr>\n",
       "    <tr>\n",
       "      <th>Outerwear</th>\n",
       "      <td>324</td>\n",
       "    </tr>\n",
       "  </tbody>\n",
       "</table>\n",
       "</div>"
      ],
      "text/plain": [
       "             count\n",
       "Category          \n",
       "Clothing      1737\n",
       "Accessories   1240\n",
       "Footwear       599\n",
       "Outerwear      324"
      ]
     },
     "execution_count": 15,
     "metadata": {},
     "output_type": "execute_result"
    }
   ],
   "source": [
    "df_category = df['Category'].value_counts().to_frame(name='count')\n",
    "df_category "
   ]
  },
  {
   "cell_type": "code",
   "execution_count": 16,
   "id": "807f7c6b",
   "metadata": {
    "execution": {
     "iopub.execute_input": "2023-11-14T07:42:43.483590Z",
     "iopub.status.busy": "2023-11-14T07:42:43.483188Z",
     "iopub.status.idle": "2023-11-14T07:42:43.491947Z",
     "shell.execute_reply": "2023-11-14T07:42:43.491097Z"
    },
    "papermill": {
     "duration": 0.027544,
     "end_time": "2023-11-14T07:42:43.493974",
     "exception": false,
     "start_time": "2023-11-14T07:42:43.466430",
     "status": "completed"
    },
    "tags": []
   },
   "outputs": [
    {
     "data": {
      "text/html": [
       "\n",
       "<script>\n",
       "    require.config({\n",
       "        paths: {\n",
       "            'chartXkcd':'https://cdn.jsdelivr.net/npm/chart.xkcd@1.1/dist/chart.xkcd.min'\n",
       "        }\n",
       "    });\n",
       "</script>\n",
       "\n",
       "<div id=\"9dec90213ee1472e9a50c55f9f5afb55\" class=\"chart-container\" style=\"width: 720px\">\n",
       "        <svg id=\"chart_9dec90213ee1472e9a50c55f9f5afb55\"></svg>\n",
       "    </div>\n",
       "    <script>\n",
       "        require(['chartXkcd'], function(chartXkcd) {\n",
       "            const svg_9dec90213ee1472e9a50c55f9f5afb55 = document.querySelector('#chart_9dec90213ee1472e9a50c55f9f5afb55')\n",
       "            const chart_9dec90213ee1472e9a50c55f9f5afb55 = new chartXkcd.Pie(svg_9dec90213ee1472e9a50c55f9f5afb55, {\"title\": \"Most shopped Category\", \"data\": {\"datasets\": [{\"data\": [1737, 1240, 599, 324]}], \"labels\": [\"Clothing\", \"Accessories\", \"Footwear\", \"Outerwear\"]}, \"options\": {\"innerRadius\": 0, \"legendPosition\": 1}});\n",
       "        })\n",
       "    </script>\n"
      ],
      "text/plain": [
       "<cutecharts.render.engine.HTML at 0x7ba8f2511e40>"
      ]
     },
     "execution_count": 16,
     "metadata": {},
     "output_type": "execute_result"
    }
   ],
   "source": [
    "pie=ctc.Pie('Most shopped Category', width='720px',height='720px')  # add title\n",
    "\n",
    "pie.set_options(labels=list(df_category.index),inner_radius=0)    #country names as labels ,inner radius set to 0\n",
    "pie.add_series(list(df_category['count']))     #label to be shown on graph\n",
    "\n",
    "pie.render_notebook()   #display the chart"
   ]
  },
  {
   "cell_type": "code",
   "execution_count": 17,
   "id": "7504f9cf",
   "metadata": {
    "execution": {
     "iopub.execute_input": "2023-11-14T07:42:43.526675Z",
     "iopub.status.busy": "2023-11-14T07:42:43.525888Z",
     "iopub.status.idle": "2023-11-14T07:42:43.533969Z",
     "shell.execute_reply": "2023-11-14T07:42:43.532996Z"
    },
    "papermill": {
     "duration": 0.027004,
     "end_time": "2023-11-14T07:42:43.536256",
     "exception": false,
     "start_time": "2023-11-14T07:42:43.509252",
     "status": "completed"
    },
    "tags": []
   },
   "outputs": [
    {
     "data": {
      "text/plain": [
       "array([3., 4., 5., 2.])"
      ]
     },
     "execution_count": 17,
     "metadata": {},
     "output_type": "execute_result"
    }
   ],
   "source": [
    "df['Review Rating'] = round(df['Review Rating'])\n",
    "df['Review Rating'].unique()"
   ]
  },
  {
   "cell_type": "code",
   "execution_count": 18,
   "id": "fcd76ba2",
   "metadata": {
    "execution": {
     "iopub.execute_input": "2023-11-14T07:42:43.568660Z",
     "iopub.status.busy": "2023-11-14T07:42:43.568237Z",
     "iopub.status.idle": "2023-11-14T07:42:43.580124Z",
     "shell.execute_reply": "2023-11-14T07:42:43.579312Z"
    },
    "papermill": {
     "duration": 0.030775,
     "end_time": "2023-11-14T07:42:43.582314",
     "exception": false,
     "start_time": "2023-11-14T07:42:43.551539",
     "status": "completed"
    },
    "tags": []
   },
   "outputs": [
    {
     "data": {
      "text/html": [
       "<div>\n",
       "<style scoped>\n",
       "    .dataframe tbody tr th:only-of-type {\n",
       "        vertical-align: middle;\n",
       "    }\n",
       "\n",
       "    .dataframe tbody tr th {\n",
       "        vertical-align: top;\n",
       "    }\n",
       "\n",
       "    .dataframe thead th {\n",
       "        text-align: right;\n",
       "    }\n",
       "</style>\n",
       "<table border=\"1\" class=\"dataframe\">\n",
       "  <thead>\n",
       "    <tr style=\"text-align: right;\">\n",
       "      <th></th>\n",
       "      <th>count</th>\n",
       "    </tr>\n",
       "    <tr>\n",
       "      <th>Review Rating</th>\n",
       "      <th></th>\n",
       "    </tr>\n",
       "  </thead>\n",
       "  <tbody>\n",
       "    <tr>\n",
       "      <th>4.0</th>\n",
       "      <td>1710</td>\n",
       "    </tr>\n",
       "    <tr>\n",
       "      <th>3.0</th>\n",
       "      <td>1424</td>\n",
       "    </tr>\n",
       "    <tr>\n",
       "      <th>5.0</th>\n",
       "      <td>700</td>\n",
       "    </tr>\n",
       "    <tr>\n",
       "      <th>2.0</th>\n",
       "      <td>66</td>\n",
       "    </tr>\n",
       "  </tbody>\n",
       "</table>\n",
       "</div>"
      ],
      "text/plain": [
       "               count\n",
       "Review Rating       \n",
       "4.0             1710\n",
       "3.0             1424\n",
       "5.0              700\n",
       "2.0               66"
      ]
     },
     "execution_count": 18,
     "metadata": {},
     "output_type": "execute_result"
    }
   ],
   "source": [
    "df_rating = df['Review Rating'].value_counts().to_frame(name='count')\n",
    "df_rating"
   ]
  },
  {
   "cell_type": "code",
   "execution_count": 19,
   "id": "1a40558f",
   "metadata": {
    "execution": {
     "iopub.execute_input": "2023-11-14T07:42:43.615977Z",
     "iopub.status.busy": "2023-11-14T07:42:43.614854Z",
     "iopub.status.idle": "2023-11-14T07:42:43.623637Z",
     "shell.execute_reply": "2023-11-14T07:42:43.622835Z"
    },
    "papermill": {
     "duration": 0.028027,
     "end_time": "2023-11-14T07:42:43.625881",
     "exception": false,
     "start_time": "2023-11-14T07:42:43.597854",
     "status": "completed"
    },
    "tags": []
   },
   "outputs": [
    {
     "data": {
      "text/html": [
       "\n",
       "<script>\n",
       "    require.config({\n",
       "        paths: {\n",
       "            'chartXkcd':'https://cdn.jsdelivr.net/npm/chart.xkcd@1.1/dist/chart.xkcd.min'\n",
       "        }\n",
       "    });\n",
       "</script>\n",
       "\n",
       "<div id=\"81ffcb7cb78a4187a4caeadf2fadf84c\" class=\"chart-container\" style=\"width: 800px\">\n",
       "        <svg id=\"chart_81ffcb7cb78a4187a4caeadf2fadf84c\"></svg>\n",
       "    </div>\n",
       "    <script>\n",
       "        require(['chartXkcd'], function(chartXkcd) {\n",
       "            const svg_81ffcb7cb78a4187a4caeadf2fadf84c = document.querySelector('#chart_81ffcb7cb78a4187a4caeadf2fadf84c')\n",
       "            const chart_81ffcb7cb78a4187a4caeadf2fadf84c = new chartXkcd.Bar(svg_81ffcb7cb78a4187a4caeadf2fadf84c, {\"title\": \"Rating of online shopping\", \"data\": {\"datasets\": [{\"label\": \"Count\", \"data\": [1710, 1424, 700, 66]}], \"labels\": [4.0, 3.0, 5.0, 2.0]}, \"xLabel\": \"Rating\", \"yLabel\": \"Count\", \"options\": {\"yTickCount\": 3}});\n",
       "        })\n",
       "    </script>\n"
      ],
      "text/plain": [
       "<cutecharts.render.engine.HTML at 0x7ba8f2510f70>"
      ]
     },
     "execution_count": 19,
     "metadata": {},
     "output_type": "execute_result"
    }
   ],
   "source": [
    "bar=ctc.Bar('Rating of online shopping')    #add title\n",
    "\n",
    "bar.set_options(labels=list(df_rating.index),x_label='Rating',y_label='Count')  #set the chart options\n",
    "bar.add_series('Count',list(df_rating['count']))\n",
    "\n",
    "bar.render_notebook()   #display the chart"
   ]
  },
  {
   "cell_type": "code",
   "execution_count": 20,
   "id": "4709df8f",
   "metadata": {
    "execution": {
     "iopub.execute_input": "2023-11-14T07:42:43.659558Z",
     "iopub.status.busy": "2023-11-14T07:42:43.658869Z",
     "iopub.status.idle": "2023-11-14T07:42:43.669165Z",
     "shell.execute_reply": "2023-11-14T07:42:43.668306Z"
    },
    "papermill": {
     "duration": 0.029591,
     "end_time": "2023-11-14T07:42:43.671283",
     "exception": false,
     "start_time": "2023-11-14T07:42:43.641692",
     "status": "completed"
    },
    "tags": []
   },
   "outputs": [
    {
     "data": {
      "text/html": [
       "<div>\n",
       "<style scoped>\n",
       "    .dataframe tbody tr th:only-of-type {\n",
       "        vertical-align: middle;\n",
       "    }\n",
       "\n",
       "    .dataframe tbody tr th {\n",
       "        vertical-align: top;\n",
       "    }\n",
       "\n",
       "    .dataframe thead th {\n",
       "        text-align: right;\n",
       "    }\n",
       "</style>\n",
       "<table border=\"1\" class=\"dataframe\">\n",
       "  <thead>\n",
       "    <tr style=\"text-align: right;\">\n",
       "      <th></th>\n",
       "      <th>count</th>\n",
       "    </tr>\n",
       "    <tr>\n",
       "      <th>Payment Method</th>\n",
       "      <th></th>\n",
       "    </tr>\n",
       "  </thead>\n",
       "  <tbody>\n",
       "    <tr>\n",
       "      <th>PayPal</th>\n",
       "      <td>677</td>\n",
       "    </tr>\n",
       "    <tr>\n",
       "      <th>Credit Card</th>\n",
       "      <td>671</td>\n",
       "    </tr>\n",
       "    <tr>\n",
       "      <th>Cash</th>\n",
       "      <td>670</td>\n",
       "    </tr>\n",
       "    <tr>\n",
       "      <th>Debit Card</th>\n",
       "      <td>636</td>\n",
       "    </tr>\n",
       "    <tr>\n",
       "      <th>Venmo</th>\n",
       "      <td>634</td>\n",
       "    </tr>\n",
       "    <tr>\n",
       "      <th>Bank Transfer</th>\n",
       "      <td>612</td>\n",
       "    </tr>\n",
       "  </tbody>\n",
       "</table>\n",
       "</div>"
      ],
      "text/plain": [
       "                count\n",
       "Payment Method       \n",
       "PayPal            677\n",
       "Credit Card       671\n",
       "Cash              670\n",
       "Debit Card        636\n",
       "Venmo             634\n",
       "Bank Transfer     612"
      ]
     },
     "execution_count": 20,
     "metadata": {},
     "output_type": "execute_result"
    }
   ],
   "source": [
    "df_PaymentMethod = df['Payment Method'].value_counts().to_frame(name='count')\n",
    "df_PaymentMethod"
   ]
  },
  {
   "cell_type": "code",
   "execution_count": 21,
   "id": "2b452252",
   "metadata": {
    "execution": {
     "iopub.execute_input": "2023-11-14T07:42:43.705412Z",
     "iopub.status.busy": "2023-11-14T07:42:43.704456Z",
     "iopub.status.idle": "2023-11-14T07:42:43.712645Z",
     "shell.execute_reply": "2023-11-14T07:42:43.711831Z"
    },
    "papermill": {
     "duration": 0.027616,
     "end_time": "2023-11-14T07:42:43.714759",
     "exception": false,
     "start_time": "2023-11-14T07:42:43.687143",
     "status": "completed"
    },
    "tags": []
   },
   "outputs": [
    {
     "data": {
      "text/html": [
       "\n",
       "<script>\n",
       "    require.config({\n",
       "        paths: {\n",
       "            'chartXkcd':'https://cdn.jsdelivr.net/npm/chart.xkcd@1.1/dist/chart.xkcd.min'\n",
       "        }\n",
       "    });\n",
       "</script>\n",
       "\n",
       "<div id=\"d973c82841384858b3d683c1d33ca486\" class=\"chart-container\" style=\"width: 800px\">\n",
       "        <svg id=\"chart_d973c82841384858b3d683c1d33ca486\"></svg>\n",
       "    </div>\n",
       "    <script>\n",
       "        require(['chartXkcd'], function(chartXkcd) {\n",
       "            const svg_d973c82841384858b3d683c1d33ca486 = document.querySelector('#chart_d973c82841384858b3d683c1d33ca486')\n",
       "            const chart_d973c82841384858b3d683c1d33ca486 = new chartXkcd.Bar(svg_d973c82841384858b3d683c1d33ca486, {\"title\": \"Payment Method\", \"data\": {\"datasets\": [{\"label\": \"Count\", \"data\": [677, 671, 670, 636, 634, 612]}], \"labels\": [\"PayPal\", \"Credit Card\", \"Cash\", \"Debit Card\", \"Venmo\", \"Bank Transfer\"]}, \"xLabel\": \"Payment Method\", \"yLabel\": \"Count\", \"options\": {\"yTickCount\": 3}});\n",
       "        })\n",
       "    </script>\n"
      ],
      "text/plain": [
       "<cutecharts.render.engine.HTML at 0x7ba8f26debf0>"
      ]
     },
     "execution_count": 21,
     "metadata": {},
     "output_type": "execute_result"
    }
   ],
   "source": [
    "bar2=ctc.Bar('Payment Method') \n",
    "\n",
    "bar2.set_options(labels=list(df_PaymentMethod.index),x_label='Payment Method',y_label='Count')  \n",
    "bar2.add_series('Count',list(df_PaymentMethod['count']))\n",
    "\n",
    "bar2.render_notebook()   "
   ]
  },
  {
   "cell_type": "markdown",
   "id": "12cdb94d",
   "metadata": {
    "papermill": {
     "duration": 0.016568,
     "end_time": "2023-11-14T07:42:43.747527",
     "exception": false,
     "start_time": "2023-11-14T07:42:43.730959",
     "status": "completed"
    },
    "tags": []
   },
   "source": [
    "## Table filter using Interact function\n",
    "\n",
    "The interact function (ipywidgets.interact) automatically creates user interface (UI) controls for exploring code and data interactively. It is the easiest way to get started using IPython’s widgets."
   ]
  },
  {
   "cell_type": "code",
   "execution_count": 22,
   "id": "c1b452dc",
   "metadata": {
    "execution": {
     "iopub.execute_input": "2023-11-14T07:42:43.785594Z",
     "iopub.status.busy": "2023-11-14T07:42:43.784902Z",
     "iopub.status.idle": "2023-11-14T07:42:43.789825Z",
     "shell.execute_reply": "2023-11-14T07:42:43.788686Z"
    },
    "papermill": {
     "duration": 0.027464,
     "end_time": "2023-11-14T07:42:43.792418",
     "exception": false,
     "start_time": "2023-11-14T07:42:43.764954",
     "status": "completed"
    },
    "tags": []
   },
   "outputs": [],
   "source": [
    "from ipywidgets import interact"
   ]
  },
  {
   "cell_type": "markdown",
   "id": "c82e6f8b",
   "metadata": {
    "papermill": {
     "duration": 0.016093,
     "end_time": "2023-11-14T07:42:43.825108",
     "exception": false,
     "start_time": "2023-11-14T07:42:43.809015",
     "status": "completed"
    },
    "tags": []
   },
   "source": [
    "### Filter by Rating"
   ]
  },
  {
   "cell_type": "code",
   "execution_count": 23,
   "id": "27206bab",
   "metadata": {
    "execution": {
     "iopub.execute_input": "2023-11-14T07:42:43.859548Z",
     "iopub.status.busy": "2023-11-14T07:42:43.859121Z",
     "iopub.status.idle": "2023-11-14T07:42:43.961485Z",
     "shell.execute_reply": "2023-11-14T07:42:43.960342Z"
    },
    "papermill": {
     "duration": 0.122201,
     "end_time": "2023-11-14T07:42:43.963814",
     "exception": false,
     "start_time": "2023-11-14T07:42:43.841613",
     "status": "completed"
    },
    "tags": []
   },
   "outputs": [
    {
     "data": {
      "application/vnd.jupyter.widget-view+json": {
       "model_id": "2fb77eb046154a1c8ba11c2873c7e2ec",
       "version_major": 2,
       "version_minor": 0
      },
      "text/plain": [
       "interactive(children=(IntSlider(value=2, description='rating', max=5), Output()), _dom_classes=('widget-intera…"
      ]
     },
     "metadata": {},
     "output_type": "display_data"
    }
   ],
   "source": [
    "@interact\n",
    "def filter_rating(rating=(0,5,1)):\n",
    "    return df[df['Review Rating']==rating].head().style.background_gradient(cmap='Greens')"
   ]
  },
  {
   "cell_type": "markdown",
   "id": "1e189b02",
   "metadata": {
    "papermill": {
     "duration": 0.016038,
     "end_time": "2023-11-14T07:42:43.996309",
     "exception": false,
     "start_time": "2023-11-14T07:42:43.980271",
     "status": "completed"
    },
    "tags": []
   },
   "source": [
    "### Filter by Gender"
   ]
  },
  {
   "cell_type": "code",
   "execution_count": 24,
   "id": "cb980bac",
   "metadata": {
    "execution": {
     "iopub.execute_input": "2023-11-14T07:42:44.031106Z",
     "iopub.status.busy": "2023-11-14T07:42:44.030647Z",
     "iopub.status.idle": "2023-11-14T07:42:44.077893Z",
     "shell.execute_reply": "2023-11-14T07:42:44.076520Z"
    },
    "papermill": {
     "duration": 0.067293,
     "end_time": "2023-11-14T07:42:44.080207",
     "exception": false,
     "start_time": "2023-11-14T07:42:44.012914",
     "status": "completed"
    },
    "tags": []
   },
   "outputs": [
    {
     "data": {
      "application/vnd.jupyter.widget-view+json": {
       "model_id": "0d737143e38c40a1adf4baafd614ed5c",
       "version_major": 2,
       "version_minor": 0
      },
      "text/plain": [
       "interactive(children=(Dropdown(description='gender', options=('Male', 'Female'), value='Male'), Output()), _do…"
      ]
     },
     "metadata": {},
     "output_type": "display_data"
    }
   ],
   "source": [
    "@interact\n",
    "def filter_gender(gender=list(df.Gender.unique())):\n",
    "    return df[df.Gender==gender].head().style.background_gradient(cmap='Blues')"
   ]
  },
  {
   "cell_type": "markdown",
   "id": "ee0f4aa5",
   "metadata": {
    "papermill": {
     "duration": 0.016222,
     "end_time": "2023-11-14T07:42:44.113177",
     "exception": false,
     "start_time": "2023-11-14T07:42:44.096955",
     "status": "completed"
    },
    "tags": []
   },
   "source": [
    "### Filter by Location"
   ]
  },
  {
   "cell_type": "code",
   "execution_count": 25,
   "id": "77f7f327",
   "metadata": {
    "execution": {
     "iopub.execute_input": "2023-11-14T07:42:44.147979Z",
     "iopub.status.busy": "2023-11-14T07:42:44.147573Z",
     "iopub.status.idle": "2023-11-14T07:42:44.190565Z",
     "shell.execute_reply": "2023-11-14T07:42:44.189225Z"
    },
    "papermill": {
     "duration": 0.063248,
     "end_time": "2023-11-14T07:42:44.192858",
     "exception": false,
     "start_time": "2023-11-14T07:42:44.129610",
     "status": "completed"
    },
    "tags": []
   },
   "outputs": [
    {
     "data": {
      "application/vnd.jupyter.widget-view+json": {
       "model_id": "f873075e21e047a59060ea9f61f54810",
       "version_major": 2,
       "version_minor": 0
      },
      "text/plain": [
       "interactive(children=(Dropdown(description='location', options=('Kentucky', 'Maine', 'Massachusetts', 'Rhode I…"
      ]
     },
     "metadata": {},
     "output_type": "display_data"
    }
   ],
   "source": [
    "@interact\n",
    "def filter_location(location=list(df.Location.unique())):\n",
    "    return df[df.Location==location].head().sort_values(by='Location').style.background_gradient(cmap='spring')"
   ]
  },
  {
   "cell_type": "markdown",
   "id": "51a954ae",
   "metadata": {
    "papermill": {
     "duration": 0.016357,
     "end_time": "2023-11-14T07:42:44.226312",
     "exception": false,
     "start_time": "2023-11-14T07:42:44.209955",
     "status": "completed"
    },
    "tags": []
   },
   "source": [
    "### Top 5 Location where most of the purchase was made"
   ]
  },
  {
   "cell_type": "code",
   "execution_count": 26,
   "id": "0b2f4ad6",
   "metadata": {
    "execution": {
     "iopub.execute_input": "2023-11-14T07:42:44.261612Z",
     "iopub.status.busy": "2023-11-14T07:42:44.261165Z",
     "iopub.status.idle": "2023-11-14T07:42:44.271755Z",
     "shell.execute_reply": "2023-11-14T07:42:44.270675Z"
    },
    "papermill": {
     "duration": 0.031253,
     "end_time": "2023-11-14T07:42:44.274271",
     "exception": false,
     "start_time": "2023-11-14T07:42:44.243018",
     "status": "completed"
    },
    "tags": []
   },
   "outputs": [
    {
     "data": {
      "text/plain": [
       "Location\n",
       "Montana       96\n",
       "California    95\n",
       "Idaho         93\n",
       "Illinois      92\n",
       "Alabama       89\n",
       "Name: count, dtype: int64"
      ]
     },
     "execution_count": 26,
     "metadata": {},
     "output_type": "execute_result"
    }
   ],
   "source": [
    "top_5 = df['Location'].value_counts()[:5]\n",
    "top_5"
   ]
  },
  {
   "cell_type": "code",
   "execution_count": 27,
   "id": "bc249776",
   "metadata": {
    "execution": {
     "iopub.execute_input": "2023-11-14T07:42:44.311411Z",
     "iopub.status.busy": "2023-11-14T07:42:44.311029Z",
     "iopub.status.idle": "2023-11-14T07:42:44.526352Z",
     "shell.execute_reply": "2023-11-14T07:42:44.525036Z"
    },
    "papermill": {
     "duration": 0.239602,
     "end_time": "2023-11-14T07:42:44.531085",
     "exception": false,
     "start_time": "2023-11-14T07:42:44.291483",
     "status": "completed"
    },
    "tags": []
   },
   "outputs": [
    {
     "data": {
      "image/png": "[encoded data removed]",
      "text/plain": [
       "<Figure size 640x480 with 1 Axes>"
      ]
     },
     "metadata": {},
     "output_type": "display_data"
    }
   ],
   "source": [
    "plt.pie(top_5,labels=top_5.index)\n",
    "circle = plt.Circle( (0,0),0.5,color = 'white')\n",
    "p = plt.gcf()\n",
    "p.gca().add_artist(circle)\n",
    "plt.title('Top 5 Location where most of the purchase was made')\n",
    "plt.show()"
   ]
  },
  {
   "cell_type": "markdown",
   "id": "aba2865f",
   "metadata": {
    "papermill": {
     "duration": 0.01712,
     "end_time": "2023-11-14T07:42:44.580517",
     "exception": false,
     "start_time": "2023-11-14T07:42:44.563397",
     "status": "completed"
    },
    "tags": []
   },
   "source": [
    "### Location with minimum purchase"
   ]
  },
  {
   "cell_type": "code",
   "execution_count": 28,
   "id": "ebf657ff",
   "metadata": {
    "execution": {
     "iopub.execute_input": "2023-11-14T07:42:44.618180Z",
     "iopub.status.busy": "2023-11-14T07:42:44.616944Z",
     "iopub.status.idle": "2023-11-14T07:42:44.633320Z",
     "shell.execute_reply": "2023-11-14T07:42:44.632191Z"
    },
    "papermill": {
     "duration": 0.037659,
     "end_time": "2023-11-14T07:42:44.635876",
     "exception": false,
     "start_time": "2023-11-14T07:42:44.598217",
     "status": "completed"
    },
    "tags": []
   },
   "outputs": [
    {
     "data": {
      "text/html": [
       "<style type=\"text/css\">\n",
       "#T_b837d_row0_col1 {\n",
       "  background-color: #f7fbff;\n",
       "  color: #000000;\n",
       "}\n",
       "#T_b837d_row1_col1, #T_b837d_row2_col1 {\n",
       "  background-color: #6caed6;\n",
       "  color: #f1f1f1;\n",
       "}\n",
       "#T_b837d_row3_col1, #T_b837d_row4_col1 {\n",
       "  background-color: #08306b;\n",
       "  color: #f1f1f1;\n",
       "}\n",
       "</style>\n",
       "<table id=\"T_b837d\">\n",
       "  <thead>\n",
       "    <tr>\n",
       "      <th class=\"blank level0\" >&nbsp;</th>\n",
       "      <th id=\"T_b837d_level0_col0\" class=\"col_heading level0 col0\" >Location</th>\n",
       "      <th id=\"T_b837d_level0_col1\" class=\"col_heading level0 col1\" >count</th>\n",
       "    </tr>\n",
       "  </thead>\n",
       "  <tbody>\n",
       "    <tr>\n",
       "      <th id=\"T_b837d_level0_row0\" class=\"row_heading level0 row0\" >0</th>\n",
       "      <td id=\"T_b837d_row0_col0\" class=\"data row0 col0\" >New Jersey</td>\n",
       "      <td id=\"T_b837d_row0_col1\" class=\"data row0 col1\" >67</td>\n",
       "    </tr>\n",
       "    <tr>\n",
       "      <th id=\"T_b837d_level0_row1\" class=\"row_heading level0 row1\" >1</th>\n",
       "      <td id=\"T_b837d_row1_col0\" class=\"data row1 col0\" >Hawaii</td>\n",
       "      <td id=\"T_b837d_row1_col1\" class=\"data row1 col1\" >65</td>\n",
       "    </tr>\n",
       "    <tr>\n",
       "      <th id=\"T_b837d_level0_row2\" class=\"row_heading level0 row2\" >2</th>\n",
       "      <td id=\"T_b837d_row2_col0\" class=\"data row2 col0\" >Arizona</td>\n",
       "      <td id=\"T_b837d_row2_col1\" class=\"data row2 col1\" >65</td>\n",
       "    </tr>\n",
       "    <tr>\n",
       "      <th id=\"T_b837d_level0_row3\" class=\"row_heading level0 row3\" >3</th>\n",
       "      <td id=\"T_b837d_row3_col0\" class=\"data row3 col0\" >Kansas</td>\n",
       "      <td id=\"T_b837d_row3_col1\" class=\"data row3 col1\" >63</td>\n",
       "    </tr>\n",
       "    <tr>\n",
       "      <th id=\"T_b837d_level0_row4\" class=\"row_heading level0 row4\" >4</th>\n",
       "      <td id=\"T_b837d_row4_col0\" class=\"data row4 col0\" >Rhode Island</td>\n",
       "      <td id=\"T_b837d_row4_col1\" class=\"data row4 col1\" >63</td>\n",
       "    </tr>\n",
       "  </tbody>\n",
       "</table>\n"
      ],
      "text/plain": [
       "<pandas.io.formats.style.Styler at 0x7ba8f26de2c0>"
      ]
     },
     "execution_count": 28,
     "metadata": {},
     "output_type": "execute_result"
    }
   ],
   "source": [
    "df['Location'].value_counts()[-5:].rename_axis('Location').reset_index(name='count').style.background_gradient(cmap='Blues_r')"
   ]
  },
  {
   "cell_type": "markdown",
   "id": "d5c80389",
   "metadata": {
    "papermill": {
     "duration": 0.017831,
     "end_time": "2023-11-14T07:42:44.671671",
     "exception": false,
     "start_time": "2023-11-14T07:42:44.653840",
     "status": "completed"
    },
    "tags": []
   },
   "source": [
    "### Most popular"
   ]
  },
  {
   "cell_type": "code",
   "execution_count": 29,
   "id": "36f2194c",
   "metadata": {
    "execution": {
     "iopub.execute_input": "2023-11-14T07:42:44.710352Z",
     "iopub.status.busy": "2023-11-14T07:42:44.709972Z",
     "iopub.status.idle": "2023-11-14T07:42:44.726655Z",
     "shell.execute_reply": "2023-11-14T07:42:44.725828Z"
    },
    "papermill": {
     "duration": 0.039443,
     "end_time": "2023-11-14T07:42:44.728972",
     "exception": false,
     "start_time": "2023-11-14T07:42:44.689529",
     "status": "completed"
    },
    "tags": []
   },
   "outputs": [
    {
     "data": {
      "text/html": [
       "<style type=\"text/css\">\n",
       "#T_1bc5a_row0_col1, #T_1bc5a_row1_col1, #T_1bc5a_row2_col1 {\n",
       "  background-color: #f7fbff;\n",
       "  color: #000000;\n",
       "}\n",
       "#T_1bc5a_row3_col1 {\n",
       "  background-color: #d0e1f2;\n",
       "  color: #000000;\n",
       "}\n",
       "#T_1bc5a_row4_col1 {\n",
       "  background-color: #6caed6;\n",
       "  color: #f1f1f1;\n",
       "}\n",
       "#T_1bc5a_row5_col1 {\n",
       "  background-color: #2e7ebc;\n",
       "  color: #f1f1f1;\n",
       "}\n",
       "#T_1bc5a_row6_col1 {\n",
       "  background-color: #1764ab;\n",
       "  color: #f1f1f1;\n",
       "}\n",
       "#T_1bc5a_row7_col1, #T_1bc5a_row8_col1, #T_1bc5a_row9_col1 {\n",
       "  background-color: #08306b;\n",
       "  color: #f1f1f1;\n",
       "}\n",
       "</style>\n",
       "<table id=\"T_1bc5a\">\n",
       "  <thead>\n",
       "    <tr>\n",
       "      <th class=\"blank level0\" >&nbsp;</th>\n",
       "      <th id=\"T_1bc5a_level0_col0\" class=\"col_heading level0 col0\" >Item Purchased</th>\n",
       "      <th id=\"T_1bc5a_level0_col1\" class=\"col_heading level0 col1\" >count</th>\n",
       "    </tr>\n",
       "  </thead>\n",
       "  <tbody>\n",
       "    <tr>\n",
       "      <th id=\"T_1bc5a_level0_row0\" class=\"row_heading level0 row0\" >0</th>\n",
       "      <td id=\"T_1bc5a_row0_col0\" class=\"data row0 col0\" >Blouse</td>\n",
       "      <td id=\"T_1bc5a_row0_col1\" class=\"data row0 col1\" >171</td>\n",
       "    </tr>\n",
       "    <tr>\n",
       "      <th id=\"T_1bc5a_level0_row1\" class=\"row_heading level0 row1\" >1</th>\n",
       "      <td id=\"T_1bc5a_row1_col0\" class=\"data row1 col0\" >Jewelry</td>\n",
       "      <td id=\"T_1bc5a_row1_col1\" class=\"data row1 col1\" >171</td>\n",
       "    </tr>\n",
       "    <tr>\n",
       "      <th id=\"T_1bc5a_level0_row2\" class=\"row_heading level0 row2\" >2</th>\n",
       "      <td id=\"T_1bc5a_row2_col0\" class=\"data row2 col0\" >Pants</td>\n",
       "      <td id=\"T_1bc5a_row2_col1\" class=\"data row2 col1\" >171</td>\n",
       "    </tr>\n",
       "    <tr>\n",
       "      <th id=\"T_1bc5a_level0_row3\" class=\"row_heading level0 row3\" >3</th>\n",
       "      <td id=\"T_1bc5a_row3_col0\" class=\"data row3 col0\" >Shirt</td>\n",
       "      <td id=\"T_1bc5a_row3_col1\" class=\"data row3 col1\" >169</td>\n",
       "    </tr>\n",
       "    <tr>\n",
       "      <th id=\"T_1bc5a_level0_row4\" class=\"row_heading level0 row4\" >4</th>\n",
       "      <td id=\"T_1bc5a_row4_col0\" class=\"data row4 col0\" >Dress</td>\n",
       "      <td id=\"T_1bc5a_row4_col1\" class=\"data row4 col1\" >166</td>\n",
       "    </tr>\n",
       "    <tr>\n",
       "      <th id=\"T_1bc5a_level0_row5\" class=\"row_heading level0 row5\" >5</th>\n",
       "      <td id=\"T_1bc5a_row5_col0\" class=\"data row5 col0\" >Sweater</td>\n",
       "      <td id=\"T_1bc5a_row5_col1\" class=\"data row5 col1\" >164</td>\n",
       "    </tr>\n",
       "    <tr>\n",
       "      <th id=\"T_1bc5a_level0_row6\" class=\"row_heading level0 row6\" >6</th>\n",
       "      <td id=\"T_1bc5a_row6_col0\" class=\"data row6 col0\" >Jacket</td>\n",
       "      <td id=\"T_1bc5a_row6_col1\" class=\"data row6 col1\" >163</td>\n",
       "    </tr>\n",
       "    <tr>\n",
       "      <th id=\"T_1bc5a_level0_row7\" class=\"row_heading level0 row7\" >7</th>\n",
       "      <td id=\"T_1bc5a_row7_col0\" class=\"data row7 col0\" >Belt</td>\n",
       "      <td id=\"T_1bc5a_row7_col1\" class=\"data row7 col1\" >161</td>\n",
       "    </tr>\n",
       "    <tr>\n",
       "      <th id=\"T_1bc5a_level0_row8\" class=\"row_heading level0 row8\" >8</th>\n",
       "      <td id=\"T_1bc5a_row8_col0\" class=\"data row8 col0\" >Sunglasses</td>\n",
       "      <td id=\"T_1bc5a_row8_col1\" class=\"data row8 col1\" >161</td>\n",
       "    </tr>\n",
       "    <tr>\n",
       "      <th id=\"T_1bc5a_level0_row9\" class=\"row_heading level0 row9\" >9</th>\n",
       "      <td id=\"T_1bc5a_row9_col0\" class=\"data row9 col0\" >Coat</td>\n",
       "      <td id=\"T_1bc5a_row9_col1\" class=\"data row9 col1\" >161</td>\n",
       "    </tr>\n",
       "  </tbody>\n",
       "</table>\n"
      ],
      "text/plain": [
       "<pandas.io.formats.style.Styler at 0x7ba8f265c400>"
      ]
     },
     "execution_count": 29,
     "metadata": {},
     "output_type": "execute_result"
    }
   ],
   "source": [
    "popular_Item_Purchased=df['Item Purchased'].value_counts()[:10].rename_axis('Item Purchased').reset_index(name='count')\n",
    "popular_Item_Purchased.style.background_gradient(cmap='Blues_r')"
   ]
  },
  {
   "cell_type": "code",
   "execution_count": 30,
   "id": "baf82962",
   "metadata": {
    "execution": {
     "iopub.execute_input": "2023-11-14T07:42:44.767623Z",
     "iopub.status.busy": "2023-11-14T07:42:44.767030Z",
     "iopub.status.idle": "2023-11-14T07:42:45.529560Z",
     "shell.execute_reply": "2023-11-14T07:42:45.528630Z"
    },
    "papermill": {
     "duration": 0.78466,
     "end_time": "2023-11-14T07:42:45.531819",
     "exception": false,
     "start_time": "2023-11-14T07:42:44.747159",
     "status": "completed"
    },
    "tags": []
   },
   "outputs": [
    {
     "data": {
      "text/plain": [
       "<Axes: title={'center': 'Popular Item Purchased'}, xlabel='count', ylabel='Item Purchased'>"
      ]
     },
     "execution_count": 30,
     "metadata": {},
     "output_type": "execute_result"
    },
    {
     "data": {
      "image/png": "[encoded data removed]",
      "text/plain": [
       "<Figure size 640x480 with 1 Axes>"
      ]
     },
     "metadata": {},
     "output_type": "display_data"
    }
   ],
   "source": [
    "plt.title(\"Popular Item Purchased\") \n",
    "\n",
    "sns.scatterplot(y=popular_Item_Purchased['Item Purchased'],x=popular_Item_Purchased['count'],hue=popular_Item_Purchased['Item Purchased'])"
   ]
  },
  {
   "cell_type": "code",
   "execution_count": 31,
   "id": "f4dae783",
   "metadata": {
    "execution": {
     "iopub.execute_input": "2023-11-14T07:42:45.571679Z",
     "iopub.status.busy": "2023-11-14T07:42:45.571194Z",
     "iopub.status.idle": "2023-11-14T07:42:45.581039Z",
     "shell.execute_reply": "2023-11-14T07:42:45.579871Z"
    },
    "papermill": {
     "duration": 0.032869,
     "end_time": "2023-11-14T07:42:45.583573",
     "exception": false,
     "start_time": "2023-11-14T07:42:45.550704",
     "status": "completed"
    },
    "tags": []
   },
   "outputs": [
    {
     "data": {
      "text/plain": [
       "Season\n",
       "Spring    999\n",
       "Fall      975\n",
       "Winter    971\n",
       "Summer    955\n",
       "Name: count, dtype: int64"
      ]
     },
     "execution_count": 31,
     "metadata": {},
     "output_type": "execute_result"
    }
   ],
   "source": [
    "# Analysing 'Season' column\n",
    "\n",
    "df['Season'].value_counts()"
   ]
  },
  {
   "cell_type": "code",
   "execution_count": 32,
   "id": "09261c5a",
   "metadata": {
    "execution": {
     "iopub.execute_input": "2023-11-14T07:42:45.624362Z",
     "iopub.status.busy": "2023-11-14T07:42:45.623676Z",
     "iopub.status.idle": "2023-11-14T07:42:45.902036Z",
     "shell.execute_reply": "2023-11-14T07:42:45.900867Z"
    },
    "papermill": {
     "duration": 0.301791,
     "end_time": "2023-11-14T07:42:45.904420",
     "exception": false,
     "start_time": "2023-11-14T07:42:45.602629",
     "status": "completed"
    },
    "tags": []
   },
   "outputs": [
    {
     "data": {
      "text/plain": [
       "<Axes: xlabel='count', ylabel='Season'>"
      ]
     },
     "execution_count": 32,
     "metadata": {},
     "output_type": "execute_result"
    },
    {
     "data": {
      "image/png": "[encoded data removed]",
      "text/plain": [
       "<Figure size 640x480 with 1 Axes>"
      ]
     },
     "metadata": {},
     "output_type": "display_data"
    }
   ],
   "source": [
    "sns.countplot(y='Season',data=df,palette='rainbow_r')"
   ]
  }
 ],
 "metadata": {
  "kernelspec": {
   "display_name": "Python 3",
   "language": "python",
   "name": "python3"
  },
  "language_info": {
   "codemirror_mode": {
    "name": "ipython",
    "version": 3
   },
   "file_extension": ".py",
   "mimetype": "text/x-python",
   "name": "python",
   "nbconvert_exporter": "python",
   "pygments_lexer": "ipython3",
   "version": "3.10.12"
  },
  "papermill": {
   "default_parameters": {},
   "duration": 27.062326,
   "end_time": "2023-11-14T07:42:46.648875",
   "environment_variables": {},
   "exception": null,
   "input_path": "__notebook__.ipynb",
   "output_path": "__notebook__.ipynb",
   "parameters": {},
   "start_time": "2023-11-14T07:42:19.586549",
   "version": "2.4.0"
  },
  "widgets": {
   "application/vnd.jupyter.widget-state+json": {
    "state": {
     "0d737143e38c40a1adf4baafd614ed5c": {
      "model_module": "@jupyter-widgets/controls",
      "model_module_version": "1.5.0",
      "model_name": "VBoxModel",
      "state": {
       "_dom_classes": [
        "widget-interact"
       ],
       "_model_module": "@jupyter-widgets/controls",
       "_model_module_version": "1.5.0",
       "_model_name": "VBoxModel",
       "_view_count": null,
       "_view_module": "@jupyter-widgets/controls",
       "_view_module_version": "1.5.0",
       "_view_name": "VBoxView",
       "box_style": "",
       "children": [
        "IPY_MODEL_88a5e302e5b9492d891a027fc3be9c2e",
        "IPY_MODEL_cd82c1f7b37f4cd0adac56181e3d9012"
       ],
       "layout": "IPY_MODEL_3f8d167f389c44bdb7b50a6fc42a0530"
      }
     },
     "2c562f5cefa340448c061c266e5de74f": {
      "model_module": "@jupyter-widgets/controls",
      "model_module_version": "1.5.0",
      "model_name": "DropdownModel",
      "state": {
       "_dom_classes": [],
       "_model_module": "@jupyter-widgets/controls",
       "_model_module_version": "1.5.0",
       "_model_name": "DropdownModel",
       "_options_labels": [
        "Kentucky",
        "Maine",
        "Massachusetts",
        "Rhode Island",
        "Oregon",
        "Wyoming",
        "Montana",
        "Louisiana",
        "West Virginia",
        "Missouri",
        "Arkansas",
        "Hawaii",
        "Delaware",
        "New Hampshire",
        "New York",
        "Alabama",
        "Mississippi",
        "North Carolina",
        "California",
        "Oklahoma",
        "Florida",
        "Texas",
        "Nevada",
        "Kansas",
        "Colorado",
        "North Dakota",
        "Illinois",
        "Indiana",
        "Arizona",
        "Alaska",
        "Tennessee",
        "Ohio",
        "New Jersey",
        "Maryland",
        "Vermont",
        "New Mexico",
        "South Carolina",
        "Idaho",
        "Pennsylvania",
        "Connecticut",
        "Utah",
        "Virginia",
        "Georgia",
        "Nebraska",
        "Iowa",
        "South Dakota",
        "Minnesota",
        "Washington",
        "Wisconsin",
        "Michigan"
       ],
       "_view_count": null,
       "_view_module": "@jupyter-widgets/controls",
       "_view_module_version": "1.5.0",
       "_view_name": "DropdownView",
       "description": "location",
       "description_tooltip": null,
       "disabled": false,
       "index": 0,
       "layout": "IPY_MODEL_367ff4e1afe542ef95a90551dc66d3ac",
       "style": "IPY_MODEL_b076ce35d94440258ce63c3bf0ffb6df"
      }
     },
     "2fb77eb046154a1c8ba11c2873c7e2ec": {
      "model_module": "@jupyter-widgets/controls",
      "model_module_version": "1.5.0",
      "model_name": "VBoxModel",
      "state": {
       "_dom_classes": [
        "widget-interact"
       ],
       "_model_module": "@jupyter-widgets/controls",
       "_model_module_version": "1.5.0",
       "_model_name": "VBoxModel",
       "_view_count": null,
       "_view_module": "@jupyter-widgets/controls",
       "_view_module_version": "1.5.0",
       "_view_name": "VBoxView",
       "box_style": "",
       "children": [
        "IPY_MODEL_4e1d8e549797454f82d6ab9e4ef89d26",
        "IPY_MODEL_b49eb7a5deb5456fab9ff3d9c97c01e9"
       ],
       "layout": "IPY_MODEL_f2fdd114837e4bb8b7f918c3c224e708"
      }
     },
     "3575172a952f4c5e8a7b40a54f993231": {
      "model_module": "@jupyter-widgets/base",
      "model_module_version": "1.2.0",
      "model_name": "LayoutModel",
      "state": {
       "_model_module": "@jupyter-widgets/base",
       "_model_module_version": "1.2.0",
       "_model_name": "LayoutModel",
       "_view_count": null,
       "_view_module": "@jupyter-widgets/base",
       "_view_module_version": "1.2.0",
       "_view_name": "LayoutView",
       "align_content": null,
       "align_items": null,
       "align_self": null,
       "border": null,
       "bottom": null,
       "display": null,
       "flex": null,
       "flex_flow": null,
       "grid_area": null,
       "grid_auto_columns": null,
       "grid_auto_flow": null,
       "grid_auto_rows": null,
       "grid_column": null,
       "grid_gap": null,
       "grid_row": null,
       "grid_template_areas": null,
       "grid_template_columns": null,
       "grid_template_rows": null,
       "height": null,
       "justify_content": null,
       "justify_items": null,
       "left": null,
       "margin": null,
       "max_height": null,
       "max_width": null,
       "min_height": null,
       "min_width": null,
       "object_fit": null,
       "object_position": null,
       "order": null,
       "overflow": null,
       "overflow_x": null,
       "overflow_y": null,
       "padding": null,
       "right": null,
       "top": null,
       "visibility": null,
       "width": null
      }
     },
     "367ff4e1afe542ef95a90551dc66d3ac": {
      "model_module": "@jupyter-widgets/base",
      "model_module_version": "1.2.0",
      "model_name": "LayoutModel",
      "state": {
       "_model_module": "@jupyter-widgets/base",
       "_model_module_version": "1.2.0",
       "_model_name": "LayoutModel",
       "_view_count": null,
       "_view_module": "@jupyter-widgets/base",
       "_view_module_version": "1.2.0",
       "_view_name": "LayoutView",
       "align_content": null,
       "align_items": null,
       "align_self": null,
       "border": null,
       "bottom": null,
       "display": null,
       "flex": null,
       "flex_flow": null,
       "grid_area": null,
       "grid_auto_columns": null,
       "grid_auto_flow": null,
       "grid_auto_rows": null,
       "grid_column": null,
       "grid_gap": null,
       "grid_row": null,
       "grid_template_areas": null,
       "grid_template_columns": null,
       "grid_template_rows": null,
       "height": null,
       "justify_content": null,
       "justify_items": null,
       "left": null,
       "margin": null,
       "max_height": null,
       "max_width": null,
       "min_height": null,
       "min_width": null,
       "object_fit": null,
       "object_position": null,
       "order": null,
       "overflow": null,
       "overflow_x": null,
       "overflow_y": null,
       "padding": null,
       "right": null,
       "top": null,
       "visibility": null,
       "width": null
      }
     },
     "39360d2ad889457dbf33cd1d7f6e77ca": {
      "model_module": "@jupyter-widgets/base",
      "model_module_version": "1.2.0",
      "model_name": "LayoutModel",
      "state": {
       "_model_module": "@jupyter-widgets/base",
       "_model_module_version": "1.2.0",
       "_model_name": "LayoutModel",
       "_view_count": null,
       "_view_module": "@jupyter-widgets/base",
       "_view_module_version": "1.2.0",
       "_view_name": "LayoutView",
       "align_content": null,
       "align_items": null,
       "align_self": null,
       "border": null,
       "bottom": null,
       "display": null,
       "flex": null,
       "flex_flow": null,
       "grid_area": null,
       "grid_auto_columns": null,
       "grid_auto_flow": null,
       "grid_auto_rows": null,
       "grid_column": null,
       "grid_gap": null,
       "grid_row": null,
       "grid_template_areas": null,
       "grid_template_columns": null,
       "grid_template_rows": null,
       "height": null,
       "justify_content": null,
       "justify_items": null,
       "left": null,
       "margin": null,
       "max_height": null,
       "max_width": null,
       "min_height": null,
       "min_width": null,
       "object_fit": null,
       "object_position": null,
       "order": null,
       "overflow": null,
       "overflow_x": null,
       "overflow_y": null,
       "padding": null,
       "right": null,
       "top": null,
       "visibility": null,
       "width": null
      }
     },
     "3f8d167f389c44bdb7b50a6fc42a0530": {
      "model_module": "@jupyter-widgets/base",
      "model_module_version": "1.2.0",
      "model_name": "LayoutModel",
      "state": {
       "_model_module": "@jupyter-widgets/base",
       "_model_module_version": "1.2.0",
       "_model_name": "LayoutModel",
       "_view_count": null,
       "_view_module": "@jupyter-widgets/base",
       "_view_module_version": "1.2.0",
       "_view_name": "LayoutView",
       "align_content": null,
       "align_items": null,
       "align_self": null,
       "border": null,
       "bottom": null,
       "display": null,
       "flex": null,
       "flex_flow": null,
       "grid_area": null,
       "grid_auto_columns": null,
       "grid_auto_flow": null,
       "grid_auto_rows": null,
       "grid_column": null,
       "grid_gap": null,
       "grid_row": null,
       "grid_template_areas": null,
       "grid_template_columns": null,
       "grid_template_rows": null,
       "height": null,
       "justify_content": null,
       "justify_items": null,
       "left": null,
       "margin": null,
       "max_height": null,
       "max_width": null,
       "min_height": null,
       "min_width": null,
       "object_fit": null,
       "object_position": null,
       "order": null,
       "overflow": null,
       "overflow_x": null,
       "overflow_y": null,
       "padding": null,
       "right": null,
       "top": null,
       "visibility": null,
       "width": null
      }
     },
     "42d98b08bc104e07a519a561a3c2084f": {
      "model_module": "@jupyter-widgets/base",
      "model_module_version": "1.2.0",
      "model_name": "LayoutModel",
      "state": {
       "_model_module": "@jupyter-widgets/base",
       "_model_module_version": "1.2.0",
       "_model_name": "LayoutModel",
       "_view_count": null,
       "_view_module": "@jupyter-widgets/base",
       "_view_module_version": "1.2.0",
       "_view_name": "LayoutView",
       "align_content": null,
       "align_items": null,
       "align_self": null,
       "border": null,
       "bottom": null,
       "display": null,
       "flex": null,
       "flex_flow": null,
       "grid_area": null,
       "grid_auto_columns": null,
       "grid_auto_flow": null,
       "grid_auto_rows": null,
       "grid_column": null,
       "grid_gap": null,
       "grid_row": null,
       "grid_template_areas": null,
       "grid_template_columns": null,
       "grid_template_rows": null,
       "height": null,
       "justify_content": null,
       "justify_items": null,
       "left": null,
       "margin": null,
       "max_height": null,
       "max_width": null,
       "min_height": null,
       "min_width": null,
       "object_fit": null,
       "object_position": null,
       "order": null,
       "overflow": null,
       "overflow_x": null,
       "overflow_y": null,
       "padding": null,
       "right": null,
       "top": null,
       "visibility": null,
       "width": null
      }
     },
     "48149751c87e4f1d845e36250a88c745": {
      "model_module": "@jupyter-widgets/base",
      "model_module_version": "1.2.0",
      "model_name": "LayoutModel",
      "state": {
       "_model_module": "@jupyter-widgets/base",
       "_model_module_version": "1.2.0",
       "_model_name": "LayoutModel",
       "_view_count": null,
       "_view_module": "@jupyter-widgets/base",
       "_view_module_version": "1.2.0",
       "_view_name": "LayoutView",
       "align_content": null,
       "align_items": null,
       "align_self": null,
       "border": null,
       "bottom": null,
       "display": null,
       "flex": null,
       "flex_flow": null,
       "grid_area": null,
       "grid_auto_columns": null,
       "grid_auto_flow": null,
       "grid_auto_rows": null,
       "grid_column": null,
       "grid_gap": null,
       "grid_row": null,
       "grid_template_areas": null,
       "grid_template_columns": null,
       "grid_template_rows": null,
       "height": null,
       "justify_content": null,
       "justify_items": null,
       "left": null,
       "margin": null,
       "max_height": null,
       "max_width": null,
       "min_height": null,
       "min_width": null,
       "object_fit": null,
       "object_position": null,
       "order": null,
       "overflow": null,
       "overflow_x": null,
       "overflow_y": null,
       "padding": null,
       "right": null,
       "top": null,
       "visibility": null,
       "width": null
      }
     },
     "4e1d8e549797454f82d6ab9e4ef89d26": {
      "model_module": "@jupyter-widgets/controls",
      "model_module_version": "1.5.0",
      "model_name": "IntSliderModel",
      "state": {
       "_dom_classes": [],
       "_model_module": "@jupyter-widgets/controls",
       "_model_module_version": "1.5.0",
       "_model_name": "IntSliderModel",
       "_view_count": null,
       "_view_module": "@jupyter-widgets/controls",
       "_view_module_version": "1.5.0",
       "_view_name": "IntSliderView",
       "continuous_update": true,
       "description": "rating",
       "description_tooltip": null,
       "disabled": false,
       "layout": "IPY_MODEL_4edf357aea124cd3a130e9bb44aa0215",
       "max": 5,
       "min": 0,
       "orientation": "horizontal",
       "readout": true,
       "readout_format": "d",
       "step": 1,
       "style": "IPY_MODEL_59cf3dfc445d4326a9ef43167e2619c4",
       "value": 2
      }
     },
     "4edf357aea124cd3a130e9bb44aa0215": {
      "model_module": "@jupyter-widgets/base",
      "model_module_version": "1.2.0",
      "model_name": "LayoutModel",
      "state": {
       "_model_module": "@jupyter-widgets/base",
       "_model_module_version": "1.2.0",
       "_model_name": "LayoutModel",
       "_view_count": null,
       "_view_module": "@jupyter-widgets/base",
       "_view_module_version": "1.2.0",
       "_view_name": "LayoutView",
       "align_content": null,
       "align_items": null,
       "align_self": null,
       "border": null,
       "bottom": null,
       "display": null,
       "flex": null,
       "flex_flow": null,
       "grid_area": null,
       "grid_auto_columns": null,
       "grid_auto_flow": null,
       "grid_auto_rows": null,
       "grid_column": null,
       "grid_gap": null,
       "grid_row": null,
       "grid_template_areas": null,
       "grid_template_columns": null,
       "grid_template_rows": null,
       "height": null,
       "justify_content": null,
       "justify_items": null,
       "left": null,
       "margin": null,
       "max_height": null,
       "max_width": null,
       "min_height": null,
       "min_width": null,
       "object_fit": null,
       "object_position": null,
       "order": null,
       "overflow": null,
       "overflow_x": null,
       "overflow_y": null,
       "padding": null,
       "right": null,
       "top": null,
       "visibility": null,
       "width": null
      }
     },
     "59cf3dfc445d4326a9ef43167e2619c4": {
      "model_module": "@jupyter-widgets/controls",
      "model_module_version": "1.5.0",
      "model_name": "SliderStyleModel",
      "state": {
       "_model_module": "@jupyter-widgets/controls",
       "_model_module_version": "1.5.0",
       "_model_name": "SliderStyleModel",
       "_view_count": null,
       "_view_module": "@jupyter-widgets/base",
       "_view_module_version": "1.2.0",
       "_view_name": "StyleView",
       "description_width": "",
       "handle_color": null
      }
     },
     "88a5e302e5b9492d891a027fc3be9c2e": {
      "model_module": "@jupyter-widgets/controls",
      "model_module_version": "1.5.0",
      "model_name": "DropdownModel",
      "state": {
       "_dom_classes": [],
       "_model_module": "@jupyter-widgets/controls",
       "_model_module_version": "1.5.0",
       "_model_name": "DropdownModel",
       "_options_labels": [
        "Male",
        "Female"
       ],
       "_view_count": null,
       "_view_module": "@jupyter-widgets/controls",
       "_view_module_version": "1.5.0",
       "_view_name": "DropdownView",
       "description": "gender",
       "description_tooltip": null,
       "disabled": false,
       "index": 0,
       "layout": "IPY_MODEL_a6bb1cb75edc4fa8ab08093b81303456",
       "style": "IPY_MODEL_be74c056a55c4314a256b341faaa27a6"
      }
     },
     "9634f9c5ca974f2a9ebc98db6df1ccb6": {
      "model_module": "@jupyter-widgets/output",
      "model_module_version": "1.0.0",
      "model_name": "OutputModel",
      "state": {
       "_dom_classes": [],
       "_model_module": "@jupyter-widgets/output",
       "_model_module_version": "1.0.0",
       "_model_name": "OutputModel",
       "_view_count": null,
       "_view_module": "@jupyter-widgets/output",
       "_view_module_version": "1.0.0",
       "_view_name": "OutputView",
       "layout": "IPY_MODEL_3575172a952f4c5e8a7b40a54f993231",
       "msg_id": "",
       "outputs": [
        {
         "data": {
          "text/html": "<style type=\"text/css\">\n#T_b1603_row0_col0 {\n  background-color: #fff00f;\n  color: #000000;\n}\n#T_b1603_row0_col4, #T_b1603_row2_col4 {\n  background-color: #ffd22d;\n  color: #000000;\n}\n#T_b1603_row0_col9, #T_b1603_row1_col14, #T_b1603_row2_col0, #T_b1603_row4_col4 {\n  background-color: #ff00ff;\n  color: #f1f1f1;\n}\n#T_b1603_row0_col14 {\n  background-color: #ff2fd0;\n  color: #f1f1f1;\n}\n#T_b1603_row1_col0, #T_b1603_row1_col4, #T_b1603_row1_col9, #T_b1603_row2_col9, #T_b1603_row2_col14, #T_b1603_row3_col9 {\n  background-color: #ffff00;\n  color: #000000;\n}\n#T_b1603_row3_col0 {\n  background-color: #ffa55a;\n  color: #000000;\n}\n#T_b1603_row3_col4 {\n  background-color: #ff5aa5;\n  color: #f1f1f1;\n}\n#T_b1603_row3_col14 {\n  background-color: #ff8679;\n  color: #f1f1f1;\n}\n#T_b1603_row4_col0 {\n  background-color: #ff4bb4;\n  color: #f1f1f1;\n}\n#T_b1603_row4_col9 {\n  background-color: #ff807f;\n  color: #f1f1f1;\n}\n#T_b1603_row4_col14 {\n  background-color: #ff28d7;\n  color: #f1f1f1;\n}\n</style>\n<table id=\"T_b1603\">\n  <thead>\n    <tr>\n      <th class=\"blank level0\" >&nbsp;</th>\n      <th id=\"T_b1603_level0_col0\" class=\"col_heading level0 col0\" >Age</th>\n      <th id=\"T_b1603_level0_col1\" class=\"col_heading level0 col1\" >Gender</th>\n      <th id=\"T_b1603_level0_col2\" class=\"col_heading level0 col2\" >Item Purchased</th>\n      <th id=\"T_b1603_level0_col3\" class=\"col_heading level0 col3\" >Category</th>\n      <th id=\"T_b1603_level0_col4\" class=\"col_heading level0 col4\" >Purchase Amount (USD)</th>\n      <th id=\"T_b1603_level0_col5\" class=\"col_heading level0 col5\" >Location</th>\n      <th id=\"T_b1603_level0_col6\" class=\"col_heading level0 col6\" >Size</th>\n      <th id=\"T_b1603_level0_col7\" class=\"col_heading level0 col7\" >Color</th>\n      <th id=\"T_b1603_level0_col8\" class=\"col_heading level0 col8\" >Season</th>\n      <th id=\"T_b1603_level0_col9\" class=\"col_heading level0 col9\" >Review Rating</th>\n      <th id=\"T_b1603_level0_col10\" class=\"col_heading level0 col10\" >Subscription Status</th>\n      <th id=\"T_b1603_level0_col11\" class=\"col_heading level0 col11\" >Shipping Type</th>\n      <th id=\"T_b1603_level0_col12\" class=\"col_heading level0 col12\" >Discount Applied</th>\n      <th id=\"T_b1603_level0_col13\" class=\"col_heading level0 col13\" >Promo Code Used</th>\n      <th id=\"T_b1603_level0_col14\" class=\"col_heading level0 col14\" >Previous Purchases</th>\n      <th id=\"T_b1603_level0_col15\" class=\"col_heading level0 col15\" >Payment Method</th>\n      <th id=\"T_b1603_level0_col16\" class=\"col_heading level0 col16\" >Frequency of Purchases</th>\n    </tr>\n  </thead>\n  <tbody>\n    <tr>\n      <th id=\"T_b1603_level0_row0\" class=\"row_heading level0 row0\" >0</th>\n      <td id=\"T_b1603_row0_col0\" class=\"data row0 col0\" >55</td>\n      <td id=\"T_b1603_row0_col1\" class=\"data row0 col1\" >Male</td>\n      <td id=\"T_b1603_row0_col2\" class=\"data row0 col2\" >Blouse</td>\n      <td id=\"T_b1603_row0_col3\" class=\"data row0 col3\" >Clothing</td>\n      <td id=\"T_b1603_row0_col4\" class=\"data row0 col4\" >53</td>\n      <td id=\"T_b1603_row0_col5\" class=\"data row0 col5\" >Kentucky</td>\n      <td id=\"T_b1603_row0_col6\" class=\"data row0 col6\" >L</td>\n      <td id=\"T_b1603_row0_col7\" class=\"data row0 col7\" >Gray</td>\n      <td id=\"T_b1603_row0_col8\" class=\"data row0 col8\" >Winter</td>\n      <td id=\"T_b1603_row0_col9\" class=\"data row0 col9\" >3.000000</td>\n      <td id=\"T_b1603_row0_col10\" class=\"data row0 col10\" >Yes</td>\n      <td id=\"T_b1603_row0_col11\" class=\"data row0 col11\" >Express</td>\n      <td id=\"T_b1603_row0_col12\" class=\"data row0 col12\" >Yes</td>\n      <td id=\"T_b1603_row0_col13\" class=\"data row0 col13\" >Yes</td>\n      <td id=\"T_b1603_row0_col14\" class=\"data row0 col14\" >14</td>\n      <td id=\"T_b1603_row0_col15\" class=\"data row0 col15\" >Venmo</td>\n      <td id=\"T_b1603_row0_col16\" class=\"data row0 col16\" >Fortnightly</td>\n    </tr>\n    <tr>\n      <th id=\"T_b1603_level0_row1\" class=\"row_heading level0 row1\" >27</th>\n      <td id=\"T_b1603_row1_col0\" class=\"data row1 col0\" >56</td>\n      <td id=\"T_b1603_row1_col1\" class=\"data row1 col1\" >Male</td>\n      <td id=\"T_b1603_row1_col2\" class=\"data row1 col2\" >Shorts</td>\n      <td id=\"T_b1603_row1_col3\" class=\"data row1 col3\" >Clothing</td>\n      <td id=\"T_b1603_row1_col4\" class=\"data row1 col4\" >56</td>\n      <td id=\"T_b1603_row1_col5\" class=\"data row1 col5\" >Kentucky</td>\n      <td id=\"T_b1603_row1_col6\" class=\"data row1 col6\" >L</td>\n      <td id=\"T_b1603_row1_col7\" class=\"data row1 col7\" >Cyan</td>\n      <td id=\"T_b1603_row1_col8\" class=\"data row1 col8\" >Summer</td>\n      <td id=\"T_b1603_row1_col9\" class=\"data row1 col9\" >5.000000</td>\n      <td id=\"T_b1603_row1_col10\" class=\"data row1 col10\" >Yes</td>\n      <td id=\"T_b1603_row1_col11\" class=\"data row1 col11\" >Next Day Air</td>\n      <td id=\"T_b1603_row1_col12\" class=\"data row1 col12\" >Yes</td>\n      <td id=\"T_b1603_row1_col13\" class=\"data row1 col13\" >Yes</td>\n      <td id=\"T_b1603_row1_col14\" class=\"data row1 col14\" >7</td>\n      <td id=\"T_b1603_row1_col15\" class=\"data row1 col15\" >Bank Transfer</td>\n      <td id=\"T_b1603_row1_col16\" class=\"data row1 col16\" >Every 3 Months</td>\n    </tr>\n    <tr>\n      <th id=\"T_b1603_level0_row2\" class=\"row_heading level0 row2\" >44</th>\n      <td id=\"T_b1603_row2_col0\" class=\"data row2 col0\" >39</td>\n      <td id=\"T_b1603_row2_col1\" class=\"data row2 col1\" >Male</td>\n      <td id=\"T_b1603_row2_col2\" class=\"data row2 col2\" >Hat</td>\n      <td id=\"T_b1603_row2_col3\" class=\"data row2 col3\" >Accessories</td>\n      <td id=\"T_b1603_row2_col4\" class=\"data row2 col4\" >53</td>\n      <td id=\"T_b1603_row2_col5\" class=\"data row2 col5\" >Kentucky</td>\n      <td id=\"T_b1603_row2_col6\" class=\"data row2 col6\" >S</td>\n      <td id=\"T_b1603_row2_col7\" class=\"data row2 col7\" >Silver</td>\n      <td id=\"T_b1603_row2_col8\" class=\"data row2 col8\" >Summer</td>\n      <td id=\"T_b1603_row2_col9\" class=\"data row2 col9\" >5.000000</td>\n      <td id=\"T_b1603_row2_col10\" class=\"data row2 col10\" >Yes</td>\n      <td id=\"T_b1603_row2_col11\" class=\"data row2 col11\" >Free Shipping</td>\n      <td id=\"T_b1603_row2_col12\" class=\"data row2 col12\" >Yes</td>\n      <td id=\"T_b1603_row2_col13\" class=\"data row2 col13\" >Yes</td>\n      <td id=\"T_b1603_row2_col14\" class=\"data row2 col14\" >45</td>\n      <td id=\"T_b1603_row2_col15\" class=\"data row2 col15\" >PayPal</td>\n      <td id=\"T_b1603_row2_col16\" class=\"data row2 col16\" >Weekly</td>\n    </tr>\n    <tr>\n      <th id=\"T_b1603_level0_row3\" class=\"row_heading level0 row3\" >118</th>\n      <td id=\"T_b1603_row3_col0\" class=\"data row3 col0\" >50</td>\n      <td id=\"T_b1603_row3_col1\" class=\"data row3 col1\" >Male</td>\n      <td id=\"T_b1603_row3_col2\" class=\"data row3 col2\" >Sweater</td>\n      <td id=\"T_b1603_row3_col3\" class=\"data row3 col3\" >Clothing</td>\n      <td id=\"T_b1603_row3_col4\" class=\"data row3 col4\" >45</td>\n      <td id=\"T_b1603_row3_col5\" class=\"data row3 col5\" >Kentucky</td>\n      <td id=\"T_b1603_row3_col6\" class=\"data row3 col6\" >L</td>\n      <td id=\"T_b1603_row3_col7\" class=\"data row3 col7\" >Orange</td>\n      <td id=\"T_b1603_row3_col8\" class=\"data row3 col8\" >Fall</td>\n      <td id=\"T_b1603_row3_col9\" class=\"data row3 col9\" >5.000000</td>\n      <td id=\"T_b1603_row3_col10\" class=\"data row3 col10\" >Yes</td>\n      <td id=\"T_b1603_row3_col11\" class=\"data row3 col11\" >2-Day Shipping</td>\n      <td id=\"T_b1603_row3_col12\" class=\"data row3 col12\" >Yes</td>\n      <td id=\"T_b1603_row3_col13\" class=\"data row3 col13\" >Yes</td>\n      <td id=\"T_b1603_row3_col14\" class=\"data row3 col14\" >27</td>\n      <td id=\"T_b1603_row3_col15\" class=\"data row3 col15\" >Cash</td>\n      <td id=\"T_b1603_row3_col16\" class=\"data row3 col16\" >Bi-Weekly</td>\n    </tr>\n    <tr>\n      <th id=\"T_b1603_level0_row4\" class=\"row_heading level0 row4\" >130</th>\n      <td id=\"T_b1603_row4_col0\" class=\"data row4 col0\" >44</td>\n      <td id=\"T_b1603_row4_col1\" class=\"data row4 col1\" >Male</td>\n      <td id=\"T_b1603_row4_col2\" class=\"data row4 col2\" >Scarf</td>\n      <td id=\"T_b1603_row4_col3\" class=\"data row4 col3\" >Accessories</td>\n      <td id=\"T_b1603_row4_col4\" class=\"data row4 col4\" >39</td>\n      <td id=\"T_b1603_row4_col5\" class=\"data row4 col5\" >Kentucky</td>\n      <td id=\"T_b1603_row4_col6\" class=\"data row4 col6\" >L</td>\n      <td id=\"T_b1603_row4_col7\" class=\"data row4 col7\" >Violet</td>\n      <td id=\"T_b1603_row4_col8\" class=\"data row4 col8\" >Fall</td>\n      <td id=\"T_b1603_row4_col9\" class=\"data row4 col9\" >4.000000</td>\n      <td id=\"T_b1603_row4_col10\" class=\"data row4 col10\" >Yes</td>\n      <td id=\"T_b1603_row4_col11\" class=\"data row4 col11\" >Next Day Air</td>\n      <td id=\"T_b1603_row4_col12\" class=\"data row4 col12\" >Yes</td>\n      <td id=\"T_b1603_row4_col13\" class=\"data row4 col13\" >Yes</td>\n      <td id=\"T_b1603_row4_col14\" class=\"data row4 col14\" >13</td>\n      <td id=\"T_b1603_row4_col15\" class=\"data row4 col15\" >PayPal</td>\n      <td id=\"T_b1603_row4_col16\" class=\"data row4 col16\" >Fortnightly</td>\n    </tr>\n  </tbody>\n</table>\n",
          "text/plain": "<pandas.io.formats.style.Styler at 0x7ba8f25283a0>"
         },
         "metadata": {},
         "output_type": "display_data"
        }
       ]
      }
     },
     "a6bb1cb75edc4fa8ab08093b81303456": {
      "model_module": "@jupyter-widgets/base",
      "model_module_version": "1.2.0",
      "model_name": "LayoutModel",
      "state": {
       "_model_module": "@jupyter-widgets/base",
       "_model_module_version": "1.2.0",
       "_model_name": "LayoutModel",
       "_view_count": null,
       "_view_module": "@jupyter-widgets/base",
       "_view_module_version": "1.2.0",
       "_view_name": "LayoutView",
       "align_content": null,
       "align_items": null,
       "align_self": null,
       "border": null,
       "bottom": null,
       "display": null,
       "flex": null,
       "flex_flow": null,
       "grid_area": null,
       "grid_auto_columns": null,
       "grid_auto_flow": null,
       "grid_auto_rows": null,
       "grid_column": null,
       "grid_gap": null,
       "grid_row": null,
       "grid_template_areas": null,
       "grid_template_columns": null,
       "grid_template_rows": null,
       "height": null,
       "justify_content": null,
       "justify_items": null,
       "left": null,
       "margin": null,
       "max_height": null,
       "max_width": null,
       "min_height": null,
       "min_width": null,
       "object_fit": null,
       "object_position": null,
       "order": null,
       "overflow": null,
       "overflow_x": null,
       "overflow_y": null,
       "padding": null,
       "right": null,
       "top": null,
       "visibility": null,
       "width": null
      }
     },
     "b076ce35d94440258ce63c3bf0ffb6df": {
      "model_module": "@jupyter-widgets/controls",
      "model_module_version": "1.5.0",
      "model_name": "DescriptionStyleModel",
      "state": {
       "_model_module": "@jupyter-widgets/controls",
       "_model_module_version": "1.5.0",
       "_model_name": "DescriptionStyleModel",
       "_view_count": null,
       "_view_module": "@jupyter-widgets/base",
       "_view_module_version": "1.2.0",
       "_view_name": "StyleView",
       "description_width": ""
      }
     },
     "b49eb7a5deb5456fab9ff3d9c97c01e9": {
      "model_module": "@jupyter-widgets/output",
      "model_module_version": "1.0.0",
      "model_name": "OutputModel",
      "state": {
       "_dom_classes": [],
       "_model_module": "@jupyter-widgets/output",
       "_model_module_version": "1.0.0",
       "_model_name": "OutputModel",
       "_view_count": null,
       "_view_module": "@jupyter-widgets/output",
       "_view_module_version": "1.0.0",
       "_view_name": "OutputView",
       "layout": "IPY_MODEL_39360d2ad889457dbf33cd1d7f6e77ca",
       "msg_id": "",
       "outputs": [
        {
         "data": {
          "text/html": "<style type=\"text/css\">\n#T_c5335_row0_col0, #T_c5335_row1_col14, #T_c5335_row3_col4 {\n  background-color: #00441b;\n  color: #f1f1f1;\n}\n#T_c5335_row0_col4 {\n  background-color: #005e26;\n  color: #f1f1f1;\n}\n#T_c5335_row0_col9, #T_c5335_row1_col0, #T_c5335_row1_col9, #T_c5335_row2_col9, #T_c5335_row3_col9, #T_c5335_row3_col14, #T_c5335_row4_col4, #T_c5335_row4_col9 {\n  background-color: #f7fcf5;\n  color: #000000;\n}\n#T_c5335_row0_col14 {\n  background-color: #40aa5d;\n  color: #f1f1f1;\n}\n#T_c5335_row1_col4 {\n  background-color: #a5db9f;\n  color: #000000;\n}\n#T_c5335_row2_col0 {\n  background-color: #60ba6c;\n  color: #f1f1f1;\n}\n#T_c5335_row2_col4 {\n  background-color: #208843;\n  color: #f1f1f1;\n}\n#T_c5335_row2_col14 {\n  background-color: #73c476;\n  color: #000000;\n}\n#T_c5335_row3_col0 {\n  background-color: #1c8540;\n  color: #f1f1f1;\n}\n#T_c5335_row4_col0 {\n  background-color: #3ca559;\n  color: #f1f1f1;\n}\n#T_c5335_row4_col14 {\n  background-color: #f1faee;\n  color: #000000;\n}\n</style>\n<table id=\"T_c5335\">\n  <thead>\n    <tr>\n      <th class=\"blank level0\" >&nbsp;</th>\n      <th id=\"T_c5335_level0_col0\" class=\"col_heading level0 col0\" >Age</th>\n      <th id=\"T_c5335_level0_col1\" class=\"col_heading level0 col1\" >Gender</th>\n      <th id=\"T_c5335_level0_col2\" class=\"col_heading level0 col2\" >Item Purchased</th>\n      <th id=\"T_c5335_level0_col3\" class=\"col_heading level0 col3\" >Category</th>\n      <th id=\"T_c5335_level0_col4\" class=\"col_heading level0 col4\" >Purchase Amount (USD)</th>\n      <th id=\"T_c5335_level0_col5\" class=\"col_heading level0 col5\" >Location</th>\n      <th id=\"T_c5335_level0_col6\" class=\"col_heading level0 col6\" >Size</th>\n      <th id=\"T_c5335_level0_col7\" class=\"col_heading level0 col7\" >Color</th>\n      <th id=\"T_c5335_level0_col8\" class=\"col_heading level0 col8\" >Season</th>\n      <th id=\"T_c5335_level0_col9\" class=\"col_heading level0 col9\" >Review Rating</th>\n      <th id=\"T_c5335_level0_col10\" class=\"col_heading level0 col10\" >Subscription Status</th>\n      <th id=\"T_c5335_level0_col11\" class=\"col_heading level0 col11\" >Shipping Type</th>\n      <th id=\"T_c5335_level0_col12\" class=\"col_heading level0 col12\" >Discount Applied</th>\n      <th id=\"T_c5335_level0_col13\" class=\"col_heading level0 col13\" >Promo Code Used</th>\n      <th id=\"T_c5335_level0_col14\" class=\"col_heading level0 col14\" >Previous Purchases</th>\n      <th id=\"T_c5335_level0_col15\" class=\"col_heading level0 col15\" >Payment Method</th>\n      <th id=\"T_c5335_level0_col16\" class=\"col_heading level0 col16\" >Frequency of Purchases</th>\n    </tr>\n  </thead>\n  <tbody>\n    <tr>\n      <th id=\"T_c5335_level0_row0\" class=\"row_heading level0 row0\" >133</th>\n      <td id=\"T_c5335_row0_col0\" class=\"data row0 col0\" >52</td>\n      <td id=\"T_c5335_row0_col1\" class=\"data row0 col1\" >Male</td>\n      <td id=\"T_c5335_row0_col2\" class=\"data row0 col2\" >Sweater</td>\n      <td id=\"T_c5335_row0_col3\" class=\"data row0 col3\" >Clothing</td>\n      <td id=\"T_c5335_row0_col4\" class=\"data row0 col4\" >65</td>\n      <td id=\"T_c5335_row0_col5\" class=\"data row0 col5\" >Montana</td>\n      <td id=\"T_c5335_row0_col6\" class=\"data row0 col6\" >M</td>\n      <td id=\"T_c5335_row0_col7\" class=\"data row0 col7\" >Violet</td>\n      <td id=\"T_c5335_row0_col8\" class=\"data row0 col8\" >Winter</td>\n      <td id=\"T_c5335_row0_col9\" class=\"data row0 col9\" >2.000000</td>\n      <td id=\"T_c5335_row0_col10\" class=\"data row0 col10\" >Yes</td>\n      <td id=\"T_c5335_row0_col11\" class=\"data row0 col11\" >Next Day Air</td>\n      <td id=\"T_c5335_row0_col12\" class=\"data row0 col12\" >Yes</td>\n      <td id=\"T_c5335_row0_col13\" class=\"data row0 col13\" >Yes</td>\n      <td id=\"T_c5335_row0_col14\" class=\"data row0 col14\" >25</td>\n      <td id=\"T_c5335_row0_col15\" class=\"data row0 col15\" >Venmo</td>\n      <td id=\"T_c5335_row0_col16\" class=\"data row0 col16\" >Annually</td>\n    </tr>\n    <tr>\n      <th id=\"T_c5335_level0_row1\" class=\"row_heading level0 row1\" >251</th>\n      <td id=\"T_c5335_row1_col0\" class=\"data row1 col0\" >21</td>\n      <td id=\"T_c5335_row1_col1\" class=\"data row1 col1\" >Male</td>\n      <td id=\"T_c5335_row1_col2\" class=\"data row1 col2\" >Handbag</td>\n      <td id=\"T_c5335_row1_col3\" class=\"data row1 col3\" >Accessories</td>\n      <td id=\"T_c5335_row1_col4\" class=\"data row1 col4\" >51</td>\n      <td id=\"T_c5335_row1_col5\" class=\"data row1 col5\" >Wyoming</td>\n      <td id=\"T_c5335_row1_col6\" class=\"data row1 col6\" >XL</td>\n      <td id=\"T_c5335_row1_col7\" class=\"data row1 col7\" >Gold</td>\n      <td id=\"T_c5335_row1_col8\" class=\"data row1 col8\" >Winter</td>\n      <td id=\"T_c5335_row1_col9\" class=\"data row1 col9\" >2.000000</td>\n      <td id=\"T_c5335_row1_col10\" class=\"data row1 col10\" >Yes</td>\n      <td id=\"T_c5335_row1_col11\" class=\"data row1 col11\" >Standard</td>\n      <td id=\"T_c5335_row1_col12\" class=\"data row1 col12\" >Yes</td>\n      <td id=\"T_c5335_row1_col13\" class=\"data row1 col13\" >Yes</td>\n      <td id=\"T_c5335_row1_col14\" class=\"data row1 col14\" >34</td>\n      <td id=\"T_c5335_row1_col15\" class=\"data row1 col15\" >PayPal</td>\n      <td id=\"T_c5335_row1_col16\" class=\"data row1 col16\" >Annually</td>\n    </tr>\n    <tr>\n      <th id=\"T_c5335_level0_row2\" class=\"row_heading level0 row2\" >281</th>\n      <td id=\"T_c5335_row2_col0\" class=\"data row2 col0\" >38</td>\n      <td id=\"T_c5335_row2_col1\" class=\"data row2 col1\" >Male</td>\n      <td id=\"T_c5335_row2_col2\" class=\"data row2 col2\" >Belt</td>\n      <td id=\"T_c5335_row2_col3\" class=\"data row2 col3\" >Accessories</td>\n      <td id=\"T_c5335_row2_col4\" class=\"data row2 col4\" >61</td>\n      <td id=\"T_c5335_row2_col5\" class=\"data row2 col5\" >Oklahoma</td>\n      <td id=\"T_c5335_row2_col6\" class=\"data row2 col6\" >XL</td>\n      <td id=\"T_c5335_row2_col7\" class=\"data row2 col7\" >Charcoal</td>\n      <td id=\"T_c5335_row2_col8\" class=\"data row2 col8\" >Spring</td>\n      <td id=\"T_c5335_row2_col9\" class=\"data row2 col9\" >2.000000</td>\n      <td id=\"T_c5335_row2_col10\" class=\"data row2 col10\" >Yes</td>\n      <td id=\"T_c5335_row2_col11\" class=\"data row2 col11\" >Standard</td>\n      <td id=\"T_c5335_row2_col12\" class=\"data row2 col12\" >Yes</td>\n      <td id=\"T_c5335_row2_col13\" class=\"data row2 col13\" >Yes</td>\n      <td id=\"T_c5335_row2_col14\" class=\"data row2 col14\" >22</td>\n      <td id=\"T_c5335_row2_col15\" class=\"data row2 col15\" >Debit Card</td>\n      <td id=\"T_c5335_row2_col16\" class=\"data row2 col16\" >Bi-Weekly</td>\n    </tr>\n    <tr>\n      <th id=\"T_c5335_level0_row3\" class=\"row_heading level0 row3\" >318</th>\n      <td id=\"T_c5335_row3_col0\" class=\"data row3 col0\" >45</td>\n      <td id=\"T_c5335_row3_col1\" class=\"data row3 col1\" >Male</td>\n      <td id=\"T_c5335_row3_col2\" class=\"data row3 col2\" >Backpack</td>\n      <td id=\"T_c5335_row3_col3\" class=\"data row3 col3\" >Accessories</td>\n      <td id=\"T_c5335_row3_col4\" class=\"data row3 col4\" >67</td>\n      <td id=\"T_c5335_row3_col5\" class=\"data row3 col5\" >South Dakota</td>\n      <td id=\"T_c5335_row3_col6\" class=\"data row3 col6\" >M</td>\n      <td id=\"T_c5335_row3_col7\" class=\"data row3 col7\" >Beige</td>\n      <td id=\"T_c5335_row3_col8\" class=\"data row3 col8\" >Winter</td>\n      <td id=\"T_c5335_row3_col9\" class=\"data row3 col9\" >2.000000</td>\n      <td id=\"T_c5335_row3_col10\" class=\"data row3 col10\" >Yes</td>\n      <td id=\"T_c5335_row3_col11\" class=\"data row3 col11\" >Standard</td>\n      <td id=\"T_c5335_row3_col12\" class=\"data row3 col12\" >Yes</td>\n      <td id=\"T_c5335_row3_col13\" class=\"data row3 col13\" >Yes</td>\n      <td id=\"T_c5335_row3_col14\" class=\"data row3 col14\" >10</td>\n      <td id=\"T_c5335_row3_col15\" class=\"data row3 col15\" >Cash</td>\n      <td id=\"T_c5335_row3_col16\" class=\"data row3 col16\" >Annually</td>\n    </tr>\n    <tr>\n      <th id=\"T_c5335_level0_row4\" class=\"row_heading level0 row4\" >482</th>\n      <td id=\"T_c5335_row4_col0\" class=\"data row4 col0\" >41</td>\n      <td id=\"T_c5335_row4_col1\" class=\"data row4 col1\" >Male</td>\n      <td id=\"T_c5335_row4_col2\" class=\"data row4 col2\" >Belt</td>\n      <td id=\"T_c5335_row4_col3\" class=\"data row4 col3\" >Accessories</td>\n      <td id=\"T_c5335_row4_col4\" class=\"data row4 col4\" >42</td>\n      <td id=\"T_c5335_row4_col5\" class=\"data row4 col5\" >Connecticut</td>\n      <td id=\"T_c5335_row4_col6\" class=\"data row4 col6\" >M</td>\n      <td id=\"T_c5335_row4_col7\" class=\"data row4 col7\" >Yellow</td>\n      <td id=\"T_c5335_row4_col8\" class=\"data row4 col8\" >Winter</td>\n      <td id=\"T_c5335_row4_col9\" class=\"data row4 col9\" >2.000000</td>\n      <td id=\"T_c5335_row4_col10\" class=\"data row4 col10\" >Yes</td>\n      <td id=\"T_c5335_row4_col11\" class=\"data row4 col11\" >2-Day Shipping</td>\n      <td id=\"T_c5335_row4_col12\" class=\"data row4 col12\" >Yes</td>\n      <td id=\"T_c5335_row4_col13\" class=\"data row4 col13\" >Yes</td>\n      <td id=\"T_c5335_row4_col14\" class=\"data row4 col14\" >11</td>\n      <td id=\"T_c5335_row4_col15\" class=\"data row4 col15\" >Venmo</td>\n      <td id=\"T_c5335_row4_col16\" class=\"data row4 col16\" >Annually</td>\n    </tr>\n  </tbody>\n</table>\n",
          "text/plain": "<pandas.io.formats.style.Styler at 0x7ba9100eb970>"
         },
         "metadata": {},
         "output_type": "display_data"
        }
       ]
      }
     },
     "be74c056a55c4314a256b341faaa27a6": {
      "model_module": "@jupyter-widgets/controls",
      "model_module_version": "1.5.0",
      "model_name": "DescriptionStyleModel",
      "state": {
       "_model_module": "@jupyter-widgets/controls",
       "_model_module_version": "1.5.0",
       "_model_name": "DescriptionStyleModel",
       "_view_count": null,
       "_view_module": "@jupyter-widgets/base",
       "_view_module_version": "1.2.0",
       "_view_name": "StyleView",
       "description_width": ""
      }
     },
     "cd82c1f7b37f4cd0adac56181e3d9012": {
      "model_module": "@jupyter-widgets/output",
      "model_module_version": "1.0.0",
      "model_name": "OutputModel",
      "state": {
       "_dom_classes": [],
       "_model_module": "@jupyter-widgets/output",
       "_model_module_version": "1.0.0",
       "_model_name": "OutputModel",
       "_view_count": null,
       "_view_module": "@jupyter-widgets/output",
       "_view_module_version": "1.0.0",
       "_view_name": "OutputView",
       "layout": "IPY_MODEL_42d98b08bc104e07a519a561a3c2084f",
       "msg_id": "",
       "outputs": [
        {
         "data": {
          "text/html": "<style type=\"text/css\">\n#T_228ca_row0_col0, #T_228ca_row3_col4, #T_228ca_row3_col9, #T_228ca_row3_col14 {\n  background-color: #08306b;\n  color: #f1f1f1;\n}\n#T_228ca_row0_col4 {\n  background-color: #e4eff9;\n  color: #000000;\n}\n#T_228ca_row0_col9, #T_228ca_row1_col0, #T_228ca_row1_col9, #T_228ca_row1_col14, #T_228ca_row2_col9, #T_228ca_row4_col4, #T_228ca_row4_col9 {\n  background-color: #f7fbff;\n  color: #000000;\n}\n#T_228ca_row0_col14 {\n  background-color: #c4daee;\n  color: #000000;\n}\n#T_228ca_row1_col4 {\n  background-color: #a1cbe2;\n  color: #000000;\n}\n#T_228ca_row2_col0 {\n  background-color: #0a549e;\n  color: #f1f1f1;\n}\n#T_228ca_row2_col4 {\n  background-color: #4f9bcb;\n  color: #f1f1f1;\n}\n#T_228ca_row2_col14 {\n  background-color: #81badb;\n  color: #000000;\n}\n#T_228ca_row3_col0 {\n  background-color: #ecf4fb;\n  color: #000000;\n}\n#T_228ca_row4_col0 {\n  background-color: #2979b9;\n  color: #f1f1f1;\n}\n#T_228ca_row4_col14 {\n  background-color: #4594c7;\n  color: #f1f1f1;\n}\n</style>\n<table id=\"T_228ca\">\n  <thead>\n    <tr>\n      <th class=\"blank level0\" >&nbsp;</th>\n      <th id=\"T_228ca_level0_col0\" class=\"col_heading level0 col0\" >Age</th>\n      <th id=\"T_228ca_level0_col1\" class=\"col_heading level0 col1\" >Gender</th>\n      <th id=\"T_228ca_level0_col2\" class=\"col_heading level0 col2\" >Item Purchased</th>\n      <th id=\"T_228ca_level0_col3\" class=\"col_heading level0 col3\" >Category</th>\n      <th id=\"T_228ca_level0_col4\" class=\"col_heading level0 col4\" >Purchase Amount (USD)</th>\n      <th id=\"T_228ca_level0_col5\" class=\"col_heading level0 col5\" >Location</th>\n      <th id=\"T_228ca_level0_col6\" class=\"col_heading level0 col6\" >Size</th>\n      <th id=\"T_228ca_level0_col7\" class=\"col_heading level0 col7\" >Color</th>\n      <th id=\"T_228ca_level0_col8\" class=\"col_heading level0 col8\" >Season</th>\n      <th id=\"T_228ca_level0_col9\" class=\"col_heading level0 col9\" >Review Rating</th>\n      <th id=\"T_228ca_level0_col10\" class=\"col_heading level0 col10\" >Subscription Status</th>\n      <th id=\"T_228ca_level0_col11\" class=\"col_heading level0 col11\" >Shipping Type</th>\n      <th id=\"T_228ca_level0_col12\" class=\"col_heading level0 col12\" >Discount Applied</th>\n      <th id=\"T_228ca_level0_col13\" class=\"col_heading level0 col13\" >Promo Code Used</th>\n      <th id=\"T_228ca_level0_col14\" class=\"col_heading level0 col14\" >Previous Purchases</th>\n      <th id=\"T_228ca_level0_col15\" class=\"col_heading level0 col15\" >Payment Method</th>\n      <th id=\"T_228ca_level0_col16\" class=\"col_heading level0 col16\" >Frequency of Purchases</th>\n    </tr>\n  </thead>\n  <tbody>\n    <tr>\n      <th id=\"T_228ca_level0_row0\" class=\"row_heading level0 row0\" >0</th>\n      <td id=\"T_228ca_row0_col0\" class=\"data row0 col0\" >55</td>\n      <td id=\"T_228ca_row0_col1\" class=\"data row0 col1\" >Male</td>\n      <td id=\"T_228ca_row0_col2\" class=\"data row0 col2\" >Blouse</td>\n      <td id=\"T_228ca_row0_col3\" class=\"data row0 col3\" >Clothing</td>\n      <td id=\"T_228ca_row0_col4\" class=\"data row0 col4\" >53</td>\n      <td id=\"T_228ca_row0_col5\" class=\"data row0 col5\" >Kentucky</td>\n      <td id=\"T_228ca_row0_col6\" class=\"data row0 col6\" >L</td>\n      <td id=\"T_228ca_row0_col7\" class=\"data row0 col7\" >Gray</td>\n      <td id=\"T_228ca_row0_col8\" class=\"data row0 col8\" >Winter</td>\n      <td id=\"T_228ca_row0_col9\" class=\"data row0 col9\" >3.000000</td>\n      <td id=\"T_228ca_row0_col10\" class=\"data row0 col10\" >Yes</td>\n      <td id=\"T_228ca_row0_col11\" class=\"data row0 col11\" >Express</td>\n      <td id=\"T_228ca_row0_col12\" class=\"data row0 col12\" >Yes</td>\n      <td id=\"T_228ca_row0_col13\" class=\"data row0 col13\" >Yes</td>\n      <td id=\"T_228ca_row0_col14\" class=\"data row0 col14\" >14</td>\n      <td id=\"T_228ca_row0_col15\" class=\"data row0 col15\" >Venmo</td>\n      <td id=\"T_228ca_row0_col16\" class=\"data row0 col16\" >Fortnightly</td>\n    </tr>\n    <tr>\n      <th id=\"T_228ca_level0_row1\" class=\"row_heading level0 row1\" >1</th>\n      <td id=\"T_228ca_row1_col0\" class=\"data row1 col0\" >19</td>\n      <td id=\"T_228ca_row1_col1\" class=\"data row1 col1\" >Male</td>\n      <td id=\"T_228ca_row1_col2\" class=\"data row1 col2\" >Sweater</td>\n      <td id=\"T_228ca_row1_col3\" class=\"data row1 col3\" >Clothing</td>\n      <td id=\"T_228ca_row1_col4\" class=\"data row1 col4\" >64</td>\n      <td id=\"T_228ca_row1_col5\" class=\"data row1 col5\" >Maine</td>\n      <td id=\"T_228ca_row1_col6\" class=\"data row1 col6\" >L</td>\n      <td id=\"T_228ca_row1_col7\" class=\"data row1 col7\" >Maroon</td>\n      <td id=\"T_228ca_row1_col8\" class=\"data row1 col8\" >Winter</td>\n      <td id=\"T_228ca_row1_col9\" class=\"data row1 col9\" >3.000000</td>\n      <td id=\"T_228ca_row1_col10\" class=\"data row1 col10\" >Yes</td>\n      <td id=\"T_228ca_row1_col11\" class=\"data row1 col11\" >Express</td>\n      <td id=\"T_228ca_row1_col12\" class=\"data row1 col12\" >Yes</td>\n      <td id=\"T_228ca_row1_col13\" class=\"data row1 col13\" >Yes</td>\n      <td id=\"T_228ca_row1_col14\" class=\"data row1 col14\" >2</td>\n      <td id=\"T_228ca_row1_col15\" class=\"data row1 col15\" >Cash</td>\n      <td id=\"T_228ca_row1_col16\" class=\"data row1 col16\" >Fortnightly</td>\n    </tr>\n    <tr>\n      <th id=\"T_228ca_level0_row2\" class=\"row_heading level0 row2\" >2</th>\n      <td id=\"T_228ca_row2_col0\" class=\"data row2 col0\" >50</td>\n      <td id=\"T_228ca_row2_col1\" class=\"data row2 col1\" >Male</td>\n      <td id=\"T_228ca_row2_col2\" class=\"data row2 col2\" >Jeans</td>\n      <td id=\"T_228ca_row2_col3\" class=\"data row2 col3\" >Clothing</td>\n      <td id=\"T_228ca_row2_col4\" class=\"data row2 col4\" >73</td>\n      <td id=\"T_228ca_row2_col5\" class=\"data row2 col5\" >Massachusetts</td>\n      <td id=\"T_228ca_row2_col6\" class=\"data row2 col6\" >S</td>\n      <td id=\"T_228ca_row2_col7\" class=\"data row2 col7\" >Maroon</td>\n      <td id=\"T_228ca_row2_col8\" class=\"data row2 col8\" >Spring</td>\n      <td id=\"T_228ca_row2_col9\" class=\"data row2 col9\" >3.000000</td>\n      <td id=\"T_228ca_row2_col10\" class=\"data row2 col10\" >Yes</td>\n      <td id=\"T_228ca_row2_col11\" class=\"data row2 col11\" >Free Shipping</td>\n      <td id=\"T_228ca_row2_col12\" class=\"data row2 col12\" >Yes</td>\n      <td id=\"T_228ca_row2_col13\" class=\"data row2 col13\" >Yes</td>\n      <td id=\"T_228ca_row2_col14\" class=\"data row2 col14\" >23</td>\n      <td id=\"T_228ca_row2_col15\" class=\"data row2 col15\" >Credit Card</td>\n      <td id=\"T_228ca_row2_col16\" class=\"data row2 col16\" >Weekly</td>\n    </tr>\n    <tr>\n      <th id=\"T_228ca_level0_row3\" class=\"row_heading level0 row3\" >3</th>\n      <td id=\"T_228ca_row3_col0\" class=\"data row3 col0\" >21</td>\n      <td id=\"T_228ca_row3_col1\" class=\"data row3 col1\" >Male</td>\n      <td id=\"T_228ca_row3_col2\" class=\"data row3 col2\" >Sandals</td>\n      <td id=\"T_228ca_row3_col3\" class=\"data row3 col3\" >Footwear</td>\n      <td id=\"T_228ca_row3_col4\" class=\"data row3 col4\" >90</td>\n      <td id=\"T_228ca_row3_col5\" class=\"data row3 col5\" >Rhode Island</td>\n      <td id=\"T_228ca_row3_col6\" class=\"data row3 col6\" >M</td>\n      <td id=\"T_228ca_row3_col7\" class=\"data row3 col7\" >Maroon</td>\n      <td id=\"T_228ca_row3_col8\" class=\"data row3 col8\" >Spring</td>\n      <td id=\"T_228ca_row3_col9\" class=\"data row3 col9\" >4.000000</td>\n      <td id=\"T_228ca_row3_col10\" class=\"data row3 col10\" >Yes</td>\n      <td id=\"T_228ca_row3_col11\" class=\"data row3 col11\" >Next Day Air</td>\n      <td id=\"T_228ca_row3_col12\" class=\"data row3 col12\" >Yes</td>\n      <td id=\"T_228ca_row3_col13\" class=\"data row3 col13\" >Yes</td>\n      <td id=\"T_228ca_row3_col14\" class=\"data row3 col14\" >49</td>\n      <td id=\"T_228ca_row3_col15\" class=\"data row3 col15\" >PayPal</td>\n      <td id=\"T_228ca_row3_col16\" class=\"data row3 col16\" >Weekly</td>\n    </tr>\n    <tr>\n      <th id=\"T_228ca_level0_row4\" class=\"row_heading level0 row4\" >4</th>\n      <td id=\"T_228ca_row4_col0\" class=\"data row4 col0\" >45</td>\n      <td id=\"T_228ca_row4_col1\" class=\"data row4 col1\" >Male</td>\n      <td id=\"T_228ca_row4_col2\" class=\"data row4 col2\" >Blouse</td>\n      <td id=\"T_228ca_row4_col3\" class=\"data row4 col3\" >Clothing</td>\n      <td id=\"T_228ca_row4_col4\" class=\"data row4 col4\" >49</td>\n      <td id=\"T_228ca_row4_col5\" class=\"data row4 col5\" >Oregon</td>\n      <td id=\"T_228ca_row4_col6\" class=\"data row4 col6\" >M</td>\n      <td id=\"T_228ca_row4_col7\" class=\"data row4 col7\" >Turquoise</td>\n      <td id=\"T_228ca_row4_col8\" class=\"data row4 col8\" >Spring</td>\n      <td id=\"T_228ca_row4_col9\" class=\"data row4 col9\" >3.000000</td>\n      <td id=\"T_228ca_row4_col10\" class=\"data row4 col10\" >Yes</td>\n      <td id=\"T_228ca_row4_col11\" class=\"data row4 col11\" >Free Shipping</td>\n      <td id=\"T_228ca_row4_col12\" class=\"data row4 col12\" >Yes</td>\n      <td id=\"T_228ca_row4_col13\" class=\"data row4 col13\" >Yes</td>\n      <td id=\"T_228ca_row4_col14\" class=\"data row4 col14\" >31</td>\n      <td id=\"T_228ca_row4_col15\" class=\"data row4 col15\" >PayPal</td>\n      <td id=\"T_228ca_row4_col16\" class=\"data row4 col16\" >Annually</td>\n    </tr>\n  </tbody>\n</table>\n",
          "text/plain": "<pandas.io.formats.style.Styler at 0x7ba9100eada0>"
         },
         "metadata": {},
         "output_type": "display_data"
        }
       ]
      }
     },
     "f2fdd114837e4bb8b7f918c3c224e708": {
      "model_module": "@jupyter-widgets/base",
      "model_module_version": "1.2.0",
      "model_name": "LayoutModel",
      "state": {
       "_model_module": "@jupyter-widgets/base",
       "_model_module_version": "1.2.0",
       "_model_name": "LayoutModel",
       "_view_count": null,
       "_view_module": "@jupyter-widgets/base",
       "_view_module_version": "1.2.0",
       "_view_name": "LayoutView",
       "align_content": null,
       "align_items": null,
       "align_self": null,
       "border": null,
       "bottom": null,
       "display": null,
       "flex": null,
       "flex_flow": null,
       "grid_area": null,
       "grid_auto_columns": null,
       "grid_auto_flow": null,
       "grid_auto_rows": null,
       "grid_column": null,
       "grid_gap": null,
       "grid_row": null,
       "grid_template_areas": null,
       "grid_template_columns": null,
       "grid_template_rows": null,
       "height": null,
       "justify_content": null,
       "justify_items": null,
       "left": null,
       "margin": null,
       "max_height": null,
       "max_width": null,
       "min_height": null,
       "min_width": null,
       "object_fit": null,
       "object_position": null,
       "order": null,
       "overflow": null,
       "overflow_x": null,
       "overflow_y": null,
       "padding": null,
       "right": null,
       "top": null,
       "visibility": null,
       "width": null
      }
     },
     "f873075e21e047a59060ea9f61f54810": {
      "model_module": "@jupyter-widgets/controls",
      "model_module_version": "1.5.0",
      "model_name": "VBoxModel",
      "state": {
       "_dom_classes": [
        "widget-interact"
       ],
       "_model_module": "@jupyter-widgets/controls",
       "_model_module_version": "1.5.0",
       "_model_name": "VBoxModel",
       "_view_count": null,
       "_view_module": "@jupyter-widgets/controls",
       "_view_module_version": "1.5.0",
       "_view_name": "VBoxView",
       "box_style": "",
       "children": [
        "IPY_MODEL_2c562f5cefa340448c061c266e5de74f",
        "IPY_MODEL_9634f9c5ca974f2a9ebc98db6df1ccb6"
       ],
       "layout": "IPY_MODEL_48149751c87e4f1d845e36250a88c745"
      }
     }
    },
    "version_major": 2,
    "version_minor": 0
   }
  }
 },
 "nbformat": 4,
 "nbformat_minor": 5
}
